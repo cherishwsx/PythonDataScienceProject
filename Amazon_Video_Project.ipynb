{
 "cells": [
  {
   "cell_type": "markdown",
   "metadata": {
    "colab_type": "text",
    "id": "Fs1Ggln4qseV"
   },
   "source": [
    "# Load Package"
   ]
  },
  {
   "cell_type": "code",
   "execution_count": 1,
   "metadata": {
    "ExecuteTime": {
     "end_time": "2019-07-22T00:02:18.261669Z",
     "start_time": "2019-07-22T00:02:15.104010Z"
    },
    "colab": {},
    "colab_type": "code",
    "id": "hMJMCD_jGOiP"
   },
   "outputs": [],
   "source": [
    "import pandas as pd\n",
    "import numpy as np\n",
    "import matplotlib.pyplot as plt\n",
    "import seaborn as sns\n",
    "import sklearn"
   ]
  },
  {
   "cell_type": "code",
   "execution_count": null,
   "metadata": {
    "colab": {},
    "colab_type": "code",
    "id": "a709dfHKfRVQ"
   },
   "outputs": [],
   "source": [
    "#!pip install -U -q PyDrive\n",
    "\n",
    "#from pydrive.auth import GoogleAuth\n",
    "#from pydrive.drive import GoogleDrive\n",
    "#from google.colab import auth\n",
    "#from oauth2client.client import GoogleCredentials\n",
    "\n",
    "#auth.authenticate_user()\n",
    "#gauth = GoogleAuth()\n",
    "#gauth.credentials = GoogleCredentials.get_application_default()\n",
    "#drive = GoogleDrive(gauth)"
   ]
  },
  {
   "cell_type": "markdown",
   "metadata": {
    "colab_type": "text",
    "id": "xQR864EIhyCT"
   },
   "source": [
    "# Laod Data"
   ]
  },
  {
   "cell_type": "code",
   "execution_count": null,
   "metadata": {
    "colab": {},
    "colab_type": "code",
    "id": "zSRmhyt6qizX"
   },
   "outputs": [],
   "source": [
    "#link = 'https://drive.google.com/open?id=1vMUTPkfZOv-m6lQbIFVH65VpNnWMj7IN' \n",
    "#fluff, id = link.split('=')\n",
    "#file = drive.CreateFile({'id':id}) # replace the id with id of file you want to access\n",
    "#file.GetContentFile('TVdata.txt')  "
   ]
  },
  {
   "cell_type": "code",
   "execution_count": 2,
   "metadata": {
    "ExecuteTime": {
     "end_time": "2019-07-22T00:02:20.380814Z",
     "start_time": "2019-07-22T00:02:20.230425Z"
    },
    "colab": {},
    "colab_type": "code",
    "id": "Ov87Yn3dp-VQ"
   },
   "outputs": [
    {
     "name": "stdout",
     "output_type": "stream",
     "text": [
      "<class 'pandas.core.frame.DataFrame'>\n",
      "RangeIndex: 4228 entries, 0 to 4227\n",
      "Data columns (total 16 columns):\n",
      "video_id                         4228 non-null object\n",
      "cvt_per_day                      4228 non-null float64\n",
      "weighted_categorical_position    4227 non-null float64\n",
      "weighted_horizontal_poition      4227 non-null float64\n",
      "import_id                        4227 non-null object\n",
      "release_year                     4227 non-null object\n",
      "genres                           4227 non-null object\n",
      "imdb_votes                       4226 non-null float64\n",
      "budget                           4226 non-null float64\n",
      "boxoffice                        4226 non-null float64\n",
      "imdb_rating                      4225 non-null float64\n",
      "duration_in_mins                 4225 non-null float64\n",
      "metacritic_score                 4225 non-null float64\n",
      "awards                           4225 non-null object\n",
      "mpaa                             4225 non-null object\n",
      "star_category                    4224 non-null float64\n",
      "dtypes: float64(10), object(6)\n",
      "memory usage: 528.6+ KB\n",
      "None\n"
     ]
    }
   ],
   "source": [
    "tv = pd.read_csv('TVdata.txt')\n",
    "print(tv.info())"
   ]
  },
  {
   "cell_type": "markdown",
   "metadata": {
    "colab_type": "text",
    "id": "dz0rIdfGh9Pp"
   },
   "source": [
    "# Part 1: Explore Data"
   ]
  },
  {
   "cell_type": "markdown",
   "metadata": {},
   "source": [
    "## Check Duplication"
   ]
  },
  {
   "cell_type": "code",
   "execution_count": 4,
   "metadata": {
    "ExecuteTime": {
     "end_time": "2019-07-15T21:59:32.174832Z",
     "start_time": "2019-07-15T21:59:32.158196Z"
    },
    "colab": {},
    "colab_type": "code",
    "id": "yCTEMUkokPKa"
   },
   "outputs": [
    {
     "name": "stdout",
     "output_type": "stream",
     "text": [
      "There is no duplicated entry (video_id based).\n"
     ]
    }
   ],
   "source": [
    "if sum(tv.duplicated('video_id', keep = False)) == 0:\n",
    "  print('There is no duplicated entry (video_id based).')\n",
    "else:\n",
    "  print('Check the duplication.')"
   ]
  },
  {
   "cell_type": "code",
   "execution_count": 8,
   "metadata": {
    "ExecuteTime": {
     "end_time": "2019-07-22T00:03:49.634019Z",
     "start_time": "2019-07-22T00:03:49.623784Z"
    }
   },
   "outputs": [
    {
     "data": {
      "text/plain": [
       "4228"
      ]
     },
     "execution_count": 8,
     "metadata": {},
     "output_type": "execute_result"
    }
   ],
   "source": [
    "len(tv['video_id'].unique())"
   ]
  },
  {
   "cell_type": "markdown",
   "metadata": {
    "colab_type": "text",
    "id": "qsyKPkY4nEdn"
   },
   "source": [
    "## Feature Overview"
   ]
  },
  {
   "cell_type": "markdown",
   "metadata": {
    "colab_type": "text",
    "id": "y1lz93upizva"
   },
   "source": [
    "There are total 16 columns including both feautures and outcome variable, among them there are total 9 numerical features (excluding the video_id and release_year) and 4 categorical features in the dataset and the outcome variable is a numerical variable."
   ]
  },
  {
   "cell_type": "markdown",
   "metadata": {
    "colab_type": "text",
    "id": "G8WrgWFbq7O1"
   },
   "source": [
    "## Understand the numerical features"
   ]
  },
  {
   "cell_type": "code",
   "execution_count": 5,
   "metadata": {
    "ExecuteTime": {
     "end_time": "2019-07-15T21:59:33.669299Z",
     "start_time": "2019-07-15T21:59:33.596986Z"
    },
    "colab": {},
    "colab_type": "code",
    "id": "APGFHVcrsNKx"
   },
   "outputs": [
    {
     "name": "stdout",
     "output_type": "stream",
     "text": [
      "video_id                         0\n",
      "cvt_per_day                      0\n",
      "weighted_categorical_position    1\n",
      "weighted_horizontal_poition      1\n",
      "import_id                        1\n",
      "release_year                     1\n",
      "genres                           1\n",
      "imdb_votes                       2\n",
      "budget                           2\n",
      "boxoffice                        2\n",
      "imdb_rating                      3\n",
      "duration_in_mins                 3\n",
      "metacritic_score                 3\n",
      "awards                           3\n",
      "mpaa                             3\n",
      "star_category                    4\n",
      "dtype: int64\n",
      "4228\n"
     ]
    },
    {
     "data": {
      "text/html": [
       "<div>\n",
       "<style scoped>\n",
       "    .dataframe tbody tr th:only-of-type {\n",
       "        vertical-align: middle;\n",
       "    }\n",
       "\n",
       "    .dataframe tbody tr th {\n",
       "        vertical-align: top;\n",
       "    }\n",
       "\n",
       "    .dataframe thead th {\n",
       "        text-align: right;\n",
       "    }\n",
       "</style>\n",
       "<table border=\"1\" class=\"dataframe\">\n",
       "  <thead>\n",
       "    <tr style=\"text-align: right;\">\n",
       "      <th></th>\n",
       "      <th>video_id</th>\n",
       "      <th>cvt_per_day</th>\n",
       "      <th>weighted_categorical_position</th>\n",
       "      <th>weighted_horizontal_poition</th>\n",
       "      <th>import_id</th>\n",
       "      <th>release_year</th>\n",
       "      <th>genres</th>\n",
       "      <th>imdb_votes</th>\n",
       "      <th>budget</th>\n",
       "      <th>boxoffice</th>\n",
       "      <th>imdb_rating</th>\n",
       "      <th>duration_in_mins</th>\n",
       "      <th>metacritic_score</th>\n",
       "      <th>awards</th>\n",
       "      <th>mpaa</th>\n",
       "      <th>star_category</th>\n",
       "    </tr>\n",
       "  </thead>\n",
       "  <tbody>\n",
       "    <tr>\n",
       "      <th>1867</th>\n",
       "      <td>305023</td>\n",
       "      <td>1505.742558</td>\n",
       "      <td>14.00000</td>\n",
       "      <td>28.0</td>\n",
       "      <td>mgm</td>\n",
       "      <td>1963</td>\n",
       "      <td>Comedy,Sci-Fi,Fantasy</td>\n",
       "      <td>8215.0</td>\n",
       "      <td>200000.0</td>\n",
       "      <td>8551.0</td>\n",
       "      <td>NaN</td>\n",
       "      <td>NaN</td>\n",
       "      <td>NaN</td>\n",
       "      <td>NaN</td>\n",
       "      <td>NaN</td>\n",
       "      <td>NaN</td>\n",
       "    </tr>\n",
       "    <tr>\n",
       "      <th>1868</th>\n",
       "      <td>228</td>\n",
       "      <td>6.700000</td>\n",
       "      <td>85.85685</td>\n",
       "      <td>57.0</td>\n",
       "      <td>other award</td>\n",
       "      <td>G</td>\n",
       "      <td>2.5249999999999999</td>\n",
       "      <td>NaN</td>\n",
       "      <td>NaN</td>\n",
       "      <td>NaN</td>\n",
       "      <td>NaN</td>\n",
       "      <td>NaN</td>\n",
       "      <td>NaN</td>\n",
       "      <td>NaN</td>\n",
       "      <td>NaN</td>\n",
       "      <td>NaN</td>\n",
       "    </tr>\n",
       "    <tr>\n",
       "      <th>3916</th>\n",
       "      <td>d</td>\n",
       "      <td>0.000000</td>\n",
       "      <td>NaN</td>\n",
       "      <td>NaN</td>\n",
       "      <td>NaN</td>\n",
       "      <td>NaN</td>\n",
       "      <td>NaN</td>\n",
       "      <td>NaN</td>\n",
       "      <td>NaN</td>\n",
       "      <td>NaN</td>\n",
       "      <td>NaN</td>\n",
       "      <td>NaN</td>\n",
       "      <td>NaN</td>\n",
       "      <td>NaN</td>\n",
       "      <td>NaN</td>\n",
       "      <td>NaN</td>\n",
       "    </tr>\n",
       "  </tbody>\n",
       "</table>\n",
       "</div>"
      ],
      "text/plain": [
       "     video_id  cvt_per_day  weighted_categorical_position  \\\n",
       "1867   305023  1505.742558                       14.00000   \n",
       "1868      228     6.700000                       85.85685   \n",
       "3916        d     0.000000                            NaN   \n",
       "\n",
       "      weighted_horizontal_poition    import_id release_year  \\\n",
       "1867                         28.0          mgm         1963   \n",
       "1868                         57.0  other award            G   \n",
       "3916                          NaN          NaN          NaN   \n",
       "\n",
       "                     genres  imdb_votes    budget  boxoffice  imdb_rating  \\\n",
       "1867  Comedy,Sci-Fi,Fantasy      8215.0  200000.0     8551.0          NaN   \n",
       "1868     2.5249999999999999         NaN       NaN        NaN          NaN   \n",
       "3916                    NaN         NaN       NaN        NaN          NaN   \n",
       "\n",
       "      duration_in_mins  metacritic_score awards mpaa  star_category  \n",
       "1867               NaN               NaN    NaN  NaN            NaN  \n",
       "1868               NaN               NaN    NaN  NaN            NaN  \n",
       "3916               NaN               NaN    NaN  NaN            NaN  "
      ]
     },
     "execution_count": 5,
     "metadata": {},
     "output_type": "execute_result"
    }
   ],
   "source": [
    "print(tv.isnull().sum()) # the number of rows with NaN for each column\n",
    "print(len(tv))\n",
    "tv[tv['imdb_rating'].isnull()]"
   ]
  },
  {
   "cell_type": "code",
   "execution_count": 6,
   "metadata": {
    "ExecuteTime": {
     "end_time": "2019-07-15T21:59:34.037598Z",
     "start_time": "2019-07-15T21:59:34.019313Z"
    }
   },
   "outputs": [
    {
     "name": "stdout",
     "output_type": "stream",
     "text": [
      "4224\n"
     ]
    }
   ],
   "source": [
    "tv = tv.dropna(axis = 0)\n",
    "print(len(tv))"
   ]
  },
  {
   "cell_type": "markdown",
   "metadata": {
    "colab_type": "text",
    "id": "bEe7_YfZjuTC"
   },
   "source": [
    "Notice that there aren't any explicit missing value such as NA or NaN in the dataset. So I further looked at some percentiles of each numerical features here. "
   ]
  },
  {
   "cell_type": "code",
   "execution_count": 7,
   "metadata": {
    "ExecuteTime": {
     "end_time": "2019-07-15T21:59:35.466765Z",
     "start_time": "2019-07-15T21:59:35.366479Z"
    },
    "colab": {},
    "colab_type": "code",
    "id": "RD6UZaOHm9t9"
   },
   "outputs": [
    {
     "name": "stdout",
     "output_type": "stream",
     "text": [
      "video_id                          0.00%\n",
      "cvt_per_day                       0.00%\n",
      "weighted_categorical_position     0.00%\n",
      "weighted_horizontal_poition       0.00%\n",
      "import_id                         0.00%\n",
      "release_year                      0.00%\n",
      "genres                            0.00%\n",
      "imdb_votes                        8.14%\n",
      "budget                           58.10%\n",
      "boxoffice                        75.59%\n",
      "imdb_rating                       8.14%\n",
      "duration_in_mins                  0.00%\n",
      "metacritic_score                 71.28%\n",
      "awards                            0.00%\n",
      "mpaa                              0.00%\n",
      "star_category                    43.68%\n",
      "dtype: object\n"
     ]
    },
    {
     "data": {
      "text/html": [
       "<div>\n",
       "<style scoped>\n",
       "    .dataframe tbody tr th:only-of-type {\n",
       "        vertical-align: middle;\n",
       "    }\n",
       "\n",
       "    .dataframe tbody tr th {\n",
       "        vertical-align: top;\n",
       "    }\n",
       "\n",
       "    .dataframe thead th {\n",
       "        text-align: right;\n",
       "    }\n",
       "</style>\n",
       "<table border=\"1\" class=\"dataframe\">\n",
       "  <thead>\n",
       "    <tr style=\"text-align: right;\">\n",
       "      <th></th>\n",
       "      <th>weighted_categorical_position</th>\n",
       "      <th>weighted_horizontal_poition</th>\n",
       "      <th>imdb_votes</th>\n",
       "      <th>budget</th>\n",
       "      <th>boxoffice</th>\n",
       "      <th>imdb_rating</th>\n",
       "      <th>duration_in_mins</th>\n",
       "      <th>metacritic_score</th>\n",
       "      <th>star_category</th>\n",
       "    </tr>\n",
       "  </thead>\n",
       "  <tbody>\n",
       "    <tr>\n",
       "      <th>count</th>\n",
       "      <td>4224.000000</td>\n",
       "      <td>4224.000000</td>\n",
       "      <td>4224.000000</td>\n",
       "      <td>4.224000e+03</td>\n",
       "      <td>4.224000e+03</td>\n",
       "      <td>4224.000000</td>\n",
       "      <td>4224.000000</td>\n",
       "      <td>4224.000000</td>\n",
       "      <td>4224.000000</td>\n",
       "    </tr>\n",
       "    <tr>\n",
       "      <th>mean</th>\n",
       "      <td>7.781960</td>\n",
       "      <td>28.105350</td>\n",
       "      <td>6464.035275</td>\n",
       "      <td>2.151681e+06</td>\n",
       "      <td>2.535515e+06</td>\n",
       "      <td>5.256037</td>\n",
       "      <td>89.559113</td>\n",
       "      <td>15.967803</td>\n",
       "      <td>0.954505</td>\n",
       "    </tr>\n",
       "    <tr>\n",
       "      <th>std</th>\n",
       "      <td>6.134613</td>\n",
       "      <td>11.865955</td>\n",
       "      <td>31603.320608</td>\n",
       "      <td>7.178174e+06</td>\n",
       "      <td>8.244856e+06</td>\n",
       "      <td>2.122680</td>\n",
       "      <td>21.090651</td>\n",
       "      <td>26.202664</td>\n",
       "      <td>0.954853</td>\n",
       "    </tr>\n",
       "    <tr>\n",
       "      <th>min</th>\n",
       "      <td>1.000000</td>\n",
       "      <td>1.000000</td>\n",
       "      <td>0.000000</td>\n",
       "      <td>0.000000e+00</td>\n",
       "      <td>0.000000e+00</td>\n",
       "      <td>0.000000</td>\n",
       "      <td>4.037250</td>\n",
       "      <td>0.000000</td>\n",
       "      <td>0.000000</td>\n",
       "    </tr>\n",
       "    <tr>\n",
       "      <th>10%</th>\n",
       "      <td>3.000000</td>\n",
       "      <td>13.000000</td>\n",
       "      <td>8.000000</td>\n",
       "      <td>0.000000e+00</td>\n",
       "      <td>0.000000e+00</td>\n",
       "      <td>2.300000</td>\n",
       "      <td>62.386413</td>\n",
       "      <td>0.000000</td>\n",
       "      <td>0.000000</td>\n",
       "    </tr>\n",
       "    <tr>\n",
       "      <th>25%</th>\n",
       "      <td>4.000000</td>\n",
       "      <td>20.000000</td>\n",
       "      <td>81.000000</td>\n",
       "      <td>0.000000e+00</td>\n",
       "      <td>0.000000e+00</td>\n",
       "      <td>4.300000</td>\n",
       "      <td>82.605137</td>\n",
       "      <td>0.000000</td>\n",
       "      <td>0.000000</td>\n",
       "    </tr>\n",
       "    <tr>\n",
       "      <th>50%</th>\n",
       "      <td>6.000000</td>\n",
       "      <td>28.000000</td>\n",
       "      <td>535.000000</td>\n",
       "      <td>0.000000e+00</td>\n",
       "      <td>0.000000e+00</td>\n",
       "      <td>5.800000</td>\n",
       "      <td>90.732208</td>\n",
       "      <td>0.000000</td>\n",
       "      <td>1.000000</td>\n",
       "    </tr>\n",
       "    <tr>\n",
       "      <th>75%</th>\n",
       "      <td>9.000000</td>\n",
       "      <td>36.000000</td>\n",
       "      <td>3047.000000</td>\n",
       "      <td>1.500000e+06</td>\n",
       "      <td>0.000000e+00</td>\n",
       "      <td>6.800000</td>\n",
       "      <td>99.505492</td>\n",
       "      <td>41.000000</td>\n",
       "      <td>1.666667</td>\n",
       "    </tr>\n",
       "    <tr>\n",
       "      <th>95%</th>\n",
       "      <td>22.000000</td>\n",
       "      <td>48.000000</td>\n",
       "      <td>26206.900000</td>\n",
       "      <td>1.200000e+07</td>\n",
       "      <td>8.551228e+06</td>\n",
       "      <td>7.800000</td>\n",
       "      <td>119.132043</td>\n",
       "      <td>65.000000</td>\n",
       "      <td>2.598333</td>\n",
       "    </tr>\n",
       "    <tr>\n",
       "      <th>max</th>\n",
       "      <td>41.000000</td>\n",
       "      <td>70.000000</td>\n",
       "      <td>948630.000000</td>\n",
       "      <td>1.070000e+08</td>\n",
       "      <td>1.842088e+08</td>\n",
       "      <td>10.000000</td>\n",
       "      <td>246.016767</td>\n",
       "      <td>100.000000</td>\n",
       "      <td>4.000000</td>\n",
       "    </tr>\n",
       "  </tbody>\n",
       "</table>\n",
       "</div>"
      ],
      "text/plain": [
       "       weighted_categorical_position  weighted_horizontal_poition  \\\n",
       "count                    4224.000000                  4224.000000   \n",
       "mean                        7.781960                    28.105350   \n",
       "std                         6.134613                    11.865955   \n",
       "min                         1.000000                     1.000000   \n",
       "10%                         3.000000                    13.000000   \n",
       "25%                         4.000000                    20.000000   \n",
       "50%                         6.000000                    28.000000   \n",
       "75%                         9.000000                    36.000000   \n",
       "95%                        22.000000                    48.000000   \n",
       "max                        41.000000                    70.000000   \n",
       "\n",
       "          imdb_votes        budget     boxoffice  imdb_rating  \\\n",
       "count    4224.000000  4.224000e+03  4.224000e+03  4224.000000   \n",
       "mean     6464.035275  2.151681e+06  2.535515e+06     5.256037   \n",
       "std     31603.320608  7.178174e+06  8.244856e+06     2.122680   \n",
       "min         0.000000  0.000000e+00  0.000000e+00     0.000000   \n",
       "10%         8.000000  0.000000e+00  0.000000e+00     2.300000   \n",
       "25%        81.000000  0.000000e+00  0.000000e+00     4.300000   \n",
       "50%       535.000000  0.000000e+00  0.000000e+00     5.800000   \n",
       "75%      3047.000000  1.500000e+06  0.000000e+00     6.800000   \n",
       "95%     26206.900000  1.200000e+07  8.551228e+06     7.800000   \n",
       "max    948630.000000  1.070000e+08  1.842088e+08    10.000000   \n",
       "\n",
       "       duration_in_mins  metacritic_score  star_category  \n",
       "count       4224.000000       4224.000000    4224.000000  \n",
       "mean          89.559113         15.967803       0.954505  \n",
       "std           21.090651         26.202664       0.954853  \n",
       "min            4.037250          0.000000       0.000000  \n",
       "10%           62.386413          0.000000       0.000000  \n",
       "25%           82.605137          0.000000       0.000000  \n",
       "50%           90.732208          0.000000       1.000000  \n",
       "75%           99.505492         41.000000       1.666667  \n",
       "95%          119.132043         65.000000       2.598333  \n",
       "max          246.016767        100.000000       4.000000  "
      ]
     },
     "execution_count": 7,
     "metadata": {},
     "output_type": "execute_result"
    }
   ],
   "source": [
    "print(((tv == 0).sum()/len(tv)).map('{:.2%}'.format))\n",
    "tv.drop(['video_id', 'release_year', 'cvt_per_day'], axis=1).describe(percentiles = [.1, .25, .5, .75, .95])"
   ]
  },
  {
   "cell_type": "markdown",
   "metadata": {
    "colab_type": "text",
    "id": "vg1arDQbsRF9"
   },
   "source": [
    "Notice that the minimum value for imdb_votes, budget, boxoffice, imdb_rating, metacritic_score and star_category are all 0 and even 10th percentile and 25th percentile of 0 for the budget and boxoffice. It's weird like how can a movie with 0 budge and how can a movie after releasing with no boxoffice at all. 4 features have over 25% of missing data: budget, boxoffice, metacritic_score, star_category. 2 features have less than 10% of missing data: imdb_votes, imdb_rating. Basically, you can not tell which 0 are informative, which are not like in ratings. We can only randomly guess."
   ]
  },
  {
   "cell_type": "code",
   "execution_count": 8,
   "metadata": {
    "ExecuteTime": {
     "end_time": "2019-07-15T21:59:37.167381Z",
     "start_time": "2019-07-15T21:59:36.471631Z"
    },
    "colab": {},
    "colab_type": "code",
    "id": "byiIoYxMtn9b"
   },
   "outputs": [
    {
     "name": "stdout",
     "output_type": "stream",
     "text": [
      "1500000.0\n",
      "budget    5.134858e+06\n",
      "dtype: float64\n"
     ]
    },
    {
     "data": {
      "image/png": "[encoded data removed]",
      "text/plain": [
       "<Figure size 432x288 with 1 Axes>"
      ]
     },
     "metadata": {
      "needs_background": "light"
     },
     "output_type": "display_data"
    }
   ],
   "source": [
    "sns.distplot(tv['budget'], color = 'blue')\n",
    "sns.distplot(tv.loc[tv['budget'] != 0, ['budget']], color = 'orange')\n",
    "print(np.median(tv.loc[tv['budget'] != 0, ['budget']]))\n",
    "print(np.mean(tv.loc[tv['budget'] != 0, ['budget']]))"
   ]
  },
  {
   "cell_type": "code",
   "execution_count": 9,
   "metadata": {
    "ExecuteTime": {
     "end_time": "2019-07-15T21:59:39.856386Z",
     "start_time": "2019-07-15T21:59:39.293522Z"
    },
    "colab": {},
    "colab_type": "code",
    "id": "kK_mY2Ydw4VK"
   },
   "outputs": [
    {
     "name": "stdout",
     "output_type": "stream",
     "text": [
      "8551228.0\n",
      "boxoffice    1.038799e+07\n",
      "dtype: float64\n"
     ]
    },
    {
     "data": {
      "image/png": "[encoded data removed]",
      "text/plain": [
       "<Figure size 432x288 with 1 Axes>"
      ]
     },
     "metadata": {
      "needs_background": "light"
     },
     "output_type": "display_data"
    }
   ],
   "source": [
    "sns.distplot(tv['boxoffice'], color = 'blue')\n",
    "sns.distplot(tv.loc[tv['boxoffice'] != 0, ['boxoffice']], color = 'orange')\n",
    "print(np.median(tv.loc[tv['boxoffice'] != 0, ['boxoffice']]))\n",
    "print(np.mean(tv.loc[tv['boxoffice'] != 0, ['boxoffice']]))"
   ]
  },
  {
   "cell_type": "code",
   "execution_count": 10,
   "metadata": {
    "ExecuteTime": {
     "end_time": "2019-07-15T21:59:40.546647Z",
     "start_time": "2019-07-15T21:59:39.859426Z"
    },
    "colab": {},
    "colab_type": "code",
    "id": "Tm2MiRzvxvHX"
   },
   "outputs": [
    {
     "name": "stdout",
     "output_type": "stream",
     "text": [
      "673.0\n",
      "imdb_votes    7037.135309\n",
      "dtype: float64\n"
     ]
    },
    {
     "data": {
      "image/png": "[encoded data removed]",
      "text/plain": [
       "<Figure size 432x288 with 1 Axes>"
      ]
     },
     "metadata": {
      "needs_background": "light"
     },
     "output_type": "display_data"
    }
   ],
   "source": [
    "# imdb_votes only has 2% 0. \n",
    "sns.distplot(tv['imdb_votes'], color = 'blue')\n",
    "sns.distplot(tv.loc[tv['imdb_votes'] != 0, ['imdb_votes']], color = 'orange')\n",
    "print(np.median(tv.loc[tv['imdb_votes'] != 0, ['imdb_votes']]))\n",
    "print(np.mean(tv.loc[tv['imdb_votes'] != 0, ['imdb_votes']]))"
   ]
  },
  {
   "cell_type": "code",
   "execution_count": 11,
   "metadata": {
    "ExecuteTime": {
     "end_time": "2019-07-15T21:59:42.853588Z",
     "start_time": "2019-07-15T21:59:42.343289Z"
    },
    "colab": {},
    "colab_type": "code",
    "id": "2zLI9423wFp5"
   },
   "outputs": [
    {
     "name": "stdout",
     "output_type": "stream",
     "text": [
      "5.900000095367432\n",
      "imdb_rating    5.722036\n",
      "dtype: float64\n"
     ]
    },
    {
     "data": {
      "image/png": "[encoded data removed]",
      "text/plain": [
       "<Figure size 432x288 with 1 Axes>"
      ]
     },
     "metadata": {
      "needs_background": "light"
     },
     "output_type": "display_data"
    }
   ],
   "source": [
    "sns.distplot(tv['imdb_rating'], color = 'blue')\n",
    "sns.distplot(tv.loc[tv['imdb_rating'] != 0, ['imdb_rating']], color = 'orange')\n",
    "print(np.median(tv.loc[tv['imdb_rating'] != 0, ['imdb_rating']]))\n",
    "print(np.mean(tv.loc[tv['imdb_rating'] != 0, ['imdb_rating']]))"
   ]
  },
  {
   "cell_type": "code",
   "execution_count": 12,
   "metadata": {
    "ExecuteTime": {
     "end_time": "2019-07-15T21:59:43.715828Z",
     "start_time": "2019-07-15T21:59:43.173387Z"
    },
    "colab": {},
    "colab_type": "code",
    "id": "DB__LhRwyFAt"
   },
   "outputs": [
    {
     "name": "stdout",
     "output_type": "stream",
     "text": [
      "57.0\n",
      "metacritic_score    55.604287\n",
      "dtype: float64\n"
     ]
    },
    {
     "data": {
      "image/png": "[encoded data removed]",
      "text/plain": [
       "<Figure size 432x288 with 1 Axes>"
      ]
     },
     "metadata": {
      "needs_background": "light"
     },
     "output_type": "display_data"
    }
   ],
   "source": [
    "sns.distplot(tv['metacritic_score'], color = 'blue')\n",
    "sns.distplot(tv.loc[tv['metacritic_score'] != 0, ['metacritic_score']], color = 'orange')\n",
    "print(np.median(tv.loc[tv['metacritic_score'] != 0, ['metacritic_score']]))\n",
    "print(np.mean(tv.loc[tv['metacritic_score'] != 0, ['metacritic_score']]))"
   ]
  },
  {
   "cell_type": "code",
   "execution_count": 13,
   "metadata": {
    "ExecuteTime": {
     "end_time": "2019-07-15T21:59:44.927791Z",
     "start_time": "2019-07-15T21:59:44.384293Z"
    },
    "colab": {},
    "colab_type": "code",
    "id": "ey-LcVLjyLD1"
   },
   "outputs": [
    {
     "name": "stdout",
     "output_type": "stream",
     "text": [
      "1.6666666666666667\n",
      "star_category    1.694758\n",
      "dtype: float64\n"
     ]
    },
    {
     "data": {
      "image/png": "[encoded data removed]",
      "text/plain": [
       "<Figure size 432x288 with 1 Axes>"
      ]
     },
     "metadata": {
      "needs_background": "light"
     },
     "output_type": "display_data"
    }
   ],
   "source": [
    "sns.distplot(tv['star_category'], color = 'blue')\n",
    "sns.distplot(tv.loc[tv['star_category'] != 0, ['star_category']], color = 'orange')\n",
    "print(np.median(tv.loc[tv['star_category'] != 0, ['star_category']]))\n",
    "print(np.mean(tv.loc[tv['star_category'] != 0, ['star_category']]))"
   ]
  },
  {
   "cell_type": "markdown",
   "metadata": {
    "colab_type": "text",
    "id": "QVbrG5zrzPy5"
   },
   "source": [
    "From the graph above, we can see that budget, boxoffice and imdb_votes have very right skewed distribution after omitting the 0 values, so I chose to use the median to fill the missing value, which is not very sensitive to the skewness data. For other features imdb_ratings, metacritic_score and star_category, I chose to use mean to fill the missing value. "
   ]
  },
  {
   "cell_type": "markdown",
   "metadata": {
    "colab_type": "text",
    "id": "p-J5ML5ZzUOs"
   },
   "source": [
    "### Correlation"
   ]
  },
  {
   "cell_type": "code",
   "execution_count": 14,
   "metadata": {
    "ExecuteTime": {
     "end_time": "2019-07-15T21:59:47.325342Z",
     "start_time": "2019-07-15T21:59:46.789879Z"
    },
    "colab": {},
    "colab_type": "code",
    "id": "UKgeCoJazWeM"
   },
   "outputs": [
    {
     "data": {
      "text/plain": [
       "Text(32.09374999999999, 0.5, 'Numrical Features')"
      ]
     },
     "execution_count": 14,
     "metadata": {},
     "output_type": "execute_result"
    },
    {
     "data": {
      "image/png": "[encoded data removed]",
      "text/plain": [
       "<Figure size 432x288 with 2 Axes>"
      ]
     },
     "metadata": {
      "needs_background": "light"
     },
     "output_type": "display_data"
    }
   ],
   "source": [
    "tv_corr = tv.select_dtypes(['number']).corr()\n",
    "sns.heatmap(tv_corr, cmap=\"Blues\")\n",
    "plt.title('Pearson Correlation before Feature Processing')\n",
    "plt.xlabel('Numrical Features')\n",
    "plt.ylabel('Numrical Features')"
   ]
  },
  {
   "cell_type": "markdown",
   "metadata": {
    "colab_type": "text",
    "id": "qfMO8Lge92ND"
   },
   "source": [
    "It makes sense that location in the website does not have a strong relationship between the movie itself like release_year, budget and so on.  "
   ]
  },
  {
   "cell_type": "markdown",
   "metadata": {
    "colab_type": "text",
    "id": "FH1qFvOG-mYu"
   },
   "source": [
    "## Understand the Categorical Features"
   ]
  },
  {
   "cell_type": "markdown",
   "metadata": {
    "colab_type": "text",
    "id": "D3TBSqOI_Zj6"
   },
   "source": [
    "### Simple Categorical Features (import_id, mpaa, awards)"
   ]
  },
  {
   "cell_type": "code",
   "execution_count": 15,
   "metadata": {
    "ExecuteTime": {
     "end_time": "2019-07-15T21:59:50.836112Z",
     "start_time": "2019-07-15T21:59:49.542818Z"
    },
    "colab": {},
    "colab_type": "code",
    "id": "pchrfdj2KBUN"
   },
   "outputs": [
    {
     "data": {
      "image/png": "[encoded data removed]",
      "text/plain": [
       "<Figure size 432x288 with 1 Axes>"
      ]
     },
     "metadata": {
      "needs_background": "light"
     },
     "output_type": "display_data"
    },
    {
     "name": "stdout",
     "output_type": "stream",
     "text": [
      "       index  import_id\n",
      "0      other       2962\n",
      "1  lionsgate        677\n",
      "2        mgm        444\n",
      "3  paramount        141\n"
     ]
    },
    {
     "data": {
      "image/png": "[encoded data removed]",
      "text/plain": [
       "<Figure size 432x288 with 1 Axes>"
      ]
     },
     "metadata": {
      "needs_background": "light"
     },
     "output_type": "display_data"
    },
    {
     "name": "stdout",
     "output_type": "stream",
     "text": [
      "      index  mpaa\n",
      "0  NotRated  2157\n",
      "1         R  1158\n",
      "2     PG-13   426\n",
      "3        PG   353\n",
      "4         G   124\n",
      "5     NC-17     6\n"
     ]
    },
    {
     "data": {
      "image/png": "[encoded data removed]",
      "text/plain": [
       "<Figure size 432x288 with 1 Axes>"
      ]
     },
     "metadata": {
      "needs_background": "light"
     },
     "output_type": "display_data"
    },
    {
     "name": "stdout",
     "output_type": "stream",
     "text": [
      "          index  awards\n",
      "0      no award    2568\n",
      "1   other award    1452\n",
      "2         Oscar     141\n",
      "3  Golden Globe      44\n",
      "4         BAFTA      19\n"
     ]
    }
   ],
   "source": [
    "sns.stripplot(x = 'import_id', y = 'cvt_per_day', data = tv, jitter = True, alpha = 0.5)\n",
    "plt.title('import_id vs. cvt_per_day')\n",
    "plt.show()\n",
    "print(tv['import_id'].value_counts().reset_index())\n",
    "\n",
    "sns.stripplot(x = 'mpaa', y = 'cvt_per_day', data = tv, jitter = True, alpha = 0.5)\n",
    "plt.title('mpaa vs. cvt_per_day')\n",
    "plt.show()\n",
    "print(tv['mpaa'].value_counts().reset_index())\n",
    "\n",
    "sns.stripplot(x = 'awards', y = 'cvt_per_day', data = tv, jitter = True, alpha = 0.5)\n",
    "plt.title('awards vs. cvt_per_day')\n",
    "plt.show()\n",
    "print(tv['awards'].value_counts().reset_index())"
   ]
  },
  {
   "cell_type": "markdown",
   "metadata": {
    "colab_type": "text",
    "id": "UsDgG88_FP19"
   },
   "source": [
    "### Distribution of splited genres\n",
    "https://pandas.pydata.org/pandas-docs/stable/user_guide/text.html"
   ]
  },
  {
   "cell_type": "code",
   "execution_count": 16,
   "metadata": {
    "ExecuteTime": {
     "end_time": "2019-07-15T21:59:53.291479Z",
     "start_time": "2019-07-15T21:59:52.661253Z"
    },
    "colab": {},
    "colab_type": "code",
    "id": "8Sn9KKAlFSH0"
   },
   "outputs": [
    {
     "data": {
      "text/plain": [
       "Text(0, 0.5, 'Count')"
      ]
     },
     "execution_count": 16,
     "metadata": {},
     "output_type": "execute_result"
    },
    {
     "data": {
      "image/png": "[encoded data removed]",
      "text/plain": [
       "<Figure size 432x288 with 1 Axes>"
      ]
     },
     "metadata": {
      "needs_background": "light"
     },
     "output_type": "display_data"
    }
   ],
   "source": [
    "tv_genre_dummy = tv['genres'].str.get_dummies(sep = ',').astype(np.int64)\n",
    "total_genre = tv_genre_dummy.sum()\n",
    "total_genre.sort_values(ascending=False).plot.bar()\n",
    "plt.title('Count of Genres after One-hot Encoding')\n",
    "plt.xlabel('Genres')\n",
    "plt.ylabel('Count')"
   ]
  },
  {
   "cell_type": "code",
   "execution_count": 17,
   "metadata": {
    "ExecuteTime": {
     "end_time": "2019-07-15T21:59:53.584745Z",
     "start_time": "2019-07-15T21:59:53.576636Z"
    }
   },
   "outputs": [
    {
     "data": {
      "text/plain": [
       "Index(['Action', 'Adult', 'Adventure', 'Animation', 'Anime', 'Comedy', 'Crime',\n",
       "       'Documentary', 'Drama', 'Fantasy', 'Foreign/International', 'Holiday',\n",
       "       'Horror', 'Independent', 'Kids & Family', 'LGBT', 'Lifestyle', 'Music',\n",
       "       'Musicals', 'Mystery', 'Reality', 'Romance', 'Sci-Fi', 'Sport',\n",
       "       'Thriller', 'War', 'Western'],\n",
       "      dtype='object')"
      ]
     },
     "execution_count": 17,
     "metadata": {},
     "output_type": "execute_result"
    }
   ],
   "source": [
    "tv_genre_dummy.columns"
   ]
  },
  {
   "cell_type": "markdown",
   "metadata": {
    "colab_type": "text",
    "id": "CvMw7Qa2HHeK"
   },
   "source": [
    "6 genres including Anime, Reality, Lifestyle, Adult, LGBT, Holiday have low frequencies. Therefore, during feature processing, they will be grouped together as: 'Misc_gen' in the feature 'genres'. Some videos belongs to more than 1 genre, the genre of each video is splited, this would help emphasize the effect of each individual genre.\n",
    "直接one hot encoding绝对会overfitting"
   ]
  },
  {
   "cell_type": "markdown",
   "metadata": {
    "colab_type": "text",
    "id": "avebYGf_INYJ"
   },
   "source": [
    "### Distribution of release_year\n",
    "(时间是个比较敏感的variable 最好看一下)\n",
    "\n",
    "The release year of video varies through a wide range. Considering the popularity of a video usually decays over time, the release_year should be bucketed based on the release_year range.\n",
    "\n",
    "There are total 97 distinct year from 1916 to 2017. And in order to split them more evenly, we cut the range based on the percentile in the later feature engineering part."
   ]
  },
  {
   "cell_type": "code",
   "execution_count": 18,
   "metadata": {
    "ExecuteTime": {
     "end_time": "2019-07-15T21:59:56.345474Z",
     "start_time": "2019-07-15T21:59:56.332586Z"
    },
    "colab": {},
    "colab_type": "code",
    "id": "QB2R4iwbnfLY"
   },
   "outputs": [
    {
     "name": "stdout",
     "output_type": "stream",
     "text": [
      "97\n"
     ]
    },
    {
     "data": {
      "text/plain": [
       "array(['1916', '1920', '1921', '1922', '1923', '1925', '1926', '1927',\n",
       "       '1928', '1930', '1931', '1932', '1933', '1934', '1935', '1936',\n",
       "       '1937', '1938', '1939', '1940', '1941', '1942', '1943', '1944',\n",
       "       '1945', '1946', '1947', '1948', '1949', '1950', '1951', '1952',\n",
       "       '1953', '1954', '1955', '1956', '1957', '1958', '1959', '1960',\n",
       "       '1961', '1962', '1963', '1964', '1965', '1966', '1967', '1968',\n",
       "       '1969', '1970', '1971', '1972', '1973', '1974', '1975', '1976',\n",
       "       '1977', '1978', '1979', '1980', '1981', '1982', '1983', '1984',\n",
       "       '1985', '1986', '1987', '1988', '1989', '1990', '1991', '1992',\n",
       "       '1993', '1994', '1995', '1996', '1997', '1998', '1999', '2000',\n",
       "       '2001', '2002', '2003', '2004', '2005', '2006', '2007', '2008',\n",
       "       '2009', '2010', '2011', '2012', '2013', '2014', '2015', '2016',\n",
       "       '2017'], dtype=object)"
      ]
     },
     "execution_count": 18,
     "metadata": {},
     "output_type": "execute_result"
    }
   ],
   "source": [
    "print(len(tv['release_year'].unique()))\n",
    "np.sort(tv['release_year'].unique())"
   ]
  },
  {
   "cell_type": "code",
   "execution_count": 19,
   "metadata": {
    "ExecuteTime": {
     "end_time": "2019-07-15T21:59:59.162645Z",
     "start_time": "2019-07-15T21:59:58.526493Z"
    },
    "colab": {},
    "colab_type": "code",
    "id": "JRnl7qyKIs9v"
   },
   "outputs": [
    {
     "name": "stdout",
     "output_type": "stream",
     "text": [
      "count    4224.000000\n",
      "mean     2001.062737\n",
      "std        17.490056\n",
      "min      1916.000000\n",
      "10%      1974.000000\n",
      "20%      1991.000000\n",
      "30%      2001.000000\n",
      "40%      2006.000000\n",
      "50%      2008.000000\n",
      "60%      2010.000000\n",
      "70%      2012.000000\n",
      "80%      2013.000000\n",
      "90%      2014.000000\n",
      "max      2017.000000\n",
      "Name: release_year, dtype: float64\n"
     ]
    },
    {
     "data": {
      "image/png": "[encoded data removed]",
      "text/plain": [
       "<Figure size 432x288 with 1 Axes>"
      ]
     },
     "metadata": {
      "needs_background": "light"
     },
     "output_type": "display_data"
    }
   ],
   "source": [
    "tv['release_year'] = pd.to_numeric(tv['release_year'])\n",
    "sns.distplot(tv['release_year'], bins = range(1910, 2017, 1))\n",
    "plt.title('Historgrams of release_year before Feature Processing')\n",
    "plt.xlabel('release_year')\n",
    "plt.ylabel('density')\n",
    "\n",
    "print(tv['release_year'].describe(percentiles = [.1, .2, .3, .4,.5, .6, .7, .8, .9]))"
   ]
  },
  {
   "cell_type": "markdown",
   "metadata": {
    "colab_type": "text",
    "id": "DbjMbIwnL4Kn"
   },
   "source": [
    "# Part 2: Feature Processing"
   ]
  },
  {
   "cell_type": "markdown",
   "metadata": {
    "colab_type": "text",
    "id": "X3LAWMpOq5K4"
   },
   "source": [
    "## One-Hot Encoding"
   ]
  },
  {
   "cell_type": "markdown",
   "metadata": {
    "colab_type": "text",
    "id": "arAa9PyHOjpb"
   },
   "source": [
    "There are 5 categorical features: import_id, mpaa, awards, genres, and release_year. There is no missing data in them. They can be converted into dummy/indicators.\n",
    "\n",
    "These three features: import_id, mpaa, awards have relatively small sub-types, they can be easily converted to dummies.\n",
    "\n",
    "The 'genres' have 27 different sub-types, 6 of them are rarely observed (refer to previous section). It's reasonable to group these 6 into 1. Note: a video may have more than one genre, in the feature preprocessing, all genres are handled individually.\n",
    "\n",
    "The release_year is bined into 10 buckets based on the year range between 1917 and 2017."
   ]
  },
  {
   "cell_type": "code",
   "execution_count": 23,
   "metadata": {
    "ExecuteTime": {
     "end_time": "2019-07-15T22:00:20.378266Z",
     "start_time": "2019-07-15T22:00:20.357880Z"
    },
    "colab": {},
    "colab_type": "code",
    "id": "2iEHZcngMr5R"
   },
   "outputs": [],
   "source": [
    "# Convert 3 Categorical variables into dummy variables, this step automatically drop the original features\n",
    "\n",
    "#d_import_id = pd.get_dummies(tv['import_id']).astype(np.int64)\n",
    "#d_mpaa = pd.get_dummies(tv['mpaa']).astype(np.int64)\n",
    "#d_awards = pd.get_dummies(tv['awards']).astype(np.int64)\n",
    "\n",
    "tv_easy_dummy = [\"import_id\", \"mpaa\", \"awards\"]\n",
    "tv_tmp = pd.get_dummies(tv, prefix_sep = \"_\",\n",
    "                              columns = tv_easy_dummy)\n"
   ]
  },
  {
   "cell_type": "code",
   "execution_count": 24,
   "metadata": {
    "ExecuteTime": {
     "end_time": "2019-07-15T22:00:23.237613Z",
     "start_time": "2019-07-15T22:00:23.104835Z"
    },
    "colab": {},
    "colab_type": "code",
    "id": "9T9Q-oUmaciL"
   },
   "outputs": [],
   "source": [
    "tv_genre_dummy = tv['genres'].str.get_dummies(sep = ',').astype(np.int64)\n",
    "tv_genre_dummy['other'] = tv_genre_dummy['Anime']|tv_genre_dummy['Reality']|tv_genre_dummy['Lifestyle']|tv_genre_dummy['Adult']|tv_genre_dummy['LGBT']|tv_genre_dummy['Holiday']\n",
    "tv_genre_dummy.drop(['Anime', 'Reality','Lifestyle', 'Adult','LGBT','Holiday'], inplace=True, axis=1)"
   ]
  },
  {
   "cell_type": "code",
   "execution_count": 25,
   "metadata": {
    "ExecuteTime": {
     "end_time": "2019-07-15T22:00:26.954210Z",
     "start_time": "2019-07-15T22:00:26.936218Z"
    },
    "colab": {},
    "colab_type": "code",
    "id": "vVzQaHaacip_"
   },
   "outputs": [],
   "source": [
    "bin_year = [1916, 1974, 1991, 2001, 2006, 2008, 2010, 2012, 2013, 2014, 2017]\n",
    "year_range = ['1916-1974', '1974-1991', '1991-2001', '2001-2006', '2006-2008', '2008-2010', '2010-2012',' 2012-2013',\n",
    "              '2013-2014', '2014-2017']\n",
    "\n",
    "#bins [1, 2, 3, 4] indicate (1,2], (2,3], (3,4].\n",
    "year_bin = pd.cut(tv['release_year'], bin_year, labels=year_range)\n",
    "tv_year_dummy = pd.get_dummies(year_bin).astype(np.int64)"
   ]
  },
  {
   "cell_type": "code",
   "execution_count": 26,
   "metadata": {
    "ExecuteTime": {
     "end_time": "2019-07-15T22:00:28.281746Z",
     "start_time": "2019-07-15T22:00:28.225251Z"
    },
    "colab": {},
    "colab_type": "code",
    "id": "WIPEBkRGcnQ6"
   },
   "outputs": [
    {
     "name": "stdout",
     "output_type": "stream",
     "text": [
      "(4224, 58)\n",
      "  video_id    cvt_per_day  weighted_categorical_position  \\\n",
      "0   385504  307127.605608                            1.0   \n",
      "1   300175  270338.426375                            1.0   \n",
      "2   361899  256165.867446                            1.0   \n",
      "3   308314  196622.720996                            3.0   \n",
      "4   307201  159841.652064                            1.0   \n",
      "\n",
      "   weighted_horizontal_poition  imdb_votes      budget   boxoffice  \\\n",
      "0                          3.0     69614.0  15000000.0  42930462.0   \n",
      "1                          3.0     46705.0  15000000.0   3301046.0   \n",
      "2                          3.0    197596.0  26000000.0  37397291.0   \n",
      "3                          4.0    356339.0  15000000.0  15700000.0   \n",
      "4                          3.0     46720.0  27220000.0   8551228.0   \n",
      "\n",
      "   imdb_rating  duration_in_mins  metacritic_score  ...  1916-1974  1974-1991  \\\n",
      "0          6.5        112.301017              51.0  ...          0          0   \n",
      "1          6.5         94.983250              41.0  ...          0          0   \n",
      "2          7.3        115.763675              58.0  ...          0          0   \n",
      "3          7.6        130.703583              94.0  ...          0          0   \n",
      "4          6.4        105.545533              37.0  ...          0          0   \n",
      "\n",
      "   1991-2001  2001-2006  2006-2008  2008-2010  2010-2012   2012-2013  \\\n",
      "0          0          0          0          0          0           1   \n",
      "1          0          0          0          0          0           1   \n",
      "2          0          0          0          0          1           0   \n",
      "3          0          0          1          0          0           0   \n",
      "4          0          0          0          0          0           1   \n",
      "\n",
      "   2013-2014  2014-2017  \n",
      "0          0          0  \n",
      "1          0          0  \n",
      "2          0          0  \n",
      "3          0          0  \n",
      "4          0          0  \n",
      "\n",
      "[5 rows x 58 columns]\n"
     ]
    }
   ],
   "source": [
    "new_tv = pd.concat([tv_tmp, tv_genre_dummy, tv_year_dummy], axis = 1).drop(['genres', 'release_year'], axis=1)\n",
    "print(new_tv.shape)\n",
    "print(new_tv.head())"
   ]
  },
  {
   "cell_type": "markdown",
   "metadata": {
    "colab_type": "text",
    "id": "poMhlpxRqtlh"
   },
   "source": [
    "Feature space holds 4226 observations and 58 features in total."
   ]
  },
  {
   "cell_type": "markdown",
   "metadata": {
    "colab_type": "text",
    "id": "lQk-Rm8CqzQ3"
   },
   "source": [
    "## Handling of Missing Data"
   ]
  },
  {
   "cell_type": "code",
   "execution_count": 27,
   "metadata": {
    "ExecuteTime": {
     "end_time": "2019-07-15T22:00:36.691581Z",
     "start_time": "2019-07-15T22:00:36.653538Z"
    },
    "colab": {},
    "colab_type": "code",
    "id": "jYN8HckAq1Hn"
   },
   "outputs": [
    {
     "name": "stdout",
     "output_type": "stream",
     "text": [
      "video_id                            0\n",
      "cvt_per_day                         0\n",
      "weighted_categorical_position       0\n",
      "weighted_horizontal_poition         0\n",
      "imdb_votes                        344\n",
      "budget                           2454\n",
      "boxoffice                        3193\n",
      "imdb_rating                       344\n",
      "duration_in_mins                    0\n",
      "metacritic_score                 3011\n",
      "star_category                    1845\n",
      "import_id_lionsgate                 0\n",
      "import_id_mgm                       0\n",
      "import_id_other                     0\n",
      "import_id_paramount                 0\n",
      "mpaa_G                              0\n",
      "mpaa_NC-17                          0\n",
      "mpaa_NotRated                       0\n",
      "mpaa_PG                             0\n",
      "mpaa_PG-13                          0\n",
      "mpaa_R                              0\n",
      "awards_BAFTA                        0\n",
      "awards_Golden Globe                 0\n",
      "awards_Oscar                        0\n",
      "awards_no award                     0\n",
      "awards_other award                  0\n",
      "Action                              0\n",
      "Adventure                           0\n",
      "Animation                           0\n",
      "Comedy                              0\n",
      "Crime                               0\n",
      "Documentary                         0\n",
      "Drama                               0\n",
      "Fantasy                             0\n",
      "Foreign/International               0\n",
      "Horror                              0\n",
      "Independent                         0\n",
      "Kids & Family                       0\n",
      "Music                               0\n",
      "Musicals                            0\n",
      "Mystery                             0\n",
      "Romance                             0\n",
      "Sci-Fi                              0\n",
      "Sport                               0\n",
      "Thriller                            0\n",
      "War                                 0\n",
      "Western                             0\n",
      "other                               0\n",
      "1916-1974                           0\n",
      "1974-1991                           0\n",
      "1991-2001                           0\n",
      "2001-2006                           0\n",
      "2006-2008                           0\n",
      "2008-2010                           0\n",
      "2010-2012                           0\n",
      " 2012-2013                          0\n",
      "2013-2014                           0\n",
      "2014-2017                           0\n",
      "dtype: int64\n",
      "videos having at least one null:  3241\n"
     ]
    }
   ],
   "source": [
    "new_tv_miss = new_tv.copy()\n",
    "# mark zero values as NaN\n",
    "new_tv_miss[['budget','boxoffice','metacritic_score', 'star_category','imdb_votes', 'imdb_rating']] = new_tv_miss[['budget','boxoffice','metacritic_score', 'star_category','imdb_votes', 'imdb_rating']].replace(0, np.nan)\n",
    "\n",
    "# count the number of NaN values in each column\n",
    "print(new_tv_miss.isnull().sum())\n",
    "\n",
    "#count the number videos who have at least one missing data \n",
    "#isnull.any(axis=1) returns true if one of the value in this row is na\n",
    "print('videos having at least one null: ', new_tv_miss.isnull().any(axis=1).sum())"
   ]
  },
  {
   "cell_type": "markdown",
   "metadata": {
    "colab_type": "text",
    "id": "SYut-36rfnGL"
   },
   "source": [
    "### Split the data (train, test)"
   ]
  },
  {
   "cell_type": "code",
   "execution_count": 28,
   "metadata": {
    "ExecuteTime": {
     "end_time": "2019-07-15T22:00:40.932048Z",
     "start_time": "2019-07-15T22:00:40.766996Z"
    },
    "colab": {},
    "colab_type": "code",
    "id": "E16rrAd-qHTn"
   },
   "outputs": [],
   "source": [
    "# The 15% test data will kept aside, they won't be seen by the models until final test/comparison.\n",
    "from sklearn.model_selection import train_test_split\n",
    "\n",
    "tv_train_init, tv_test_init = train_test_split(new_tv_miss, test_size = 0.15, random_state = 3)"
   ]
  },
  {
   "cell_type": "markdown",
   "metadata": {
    "colab_type": "text",
    "id": "Z2DAhNpRBWt5"
   },
   "source": [
    "### Using median"
   ]
  },
  {
   "cell_type": "code",
   "execution_count": 157,
   "metadata": {
    "ExecuteTime": {
     "end_time": "2019-07-15T00:50:28.599242Z",
     "start_time": "2019-07-15T00:50:28.512843Z"
    },
    "colab": {},
    "colab_type": "code",
    "id": "-56rPwuMAjqV"
   },
   "outputs": [],
   "source": [
    "from sklearn.impute import SimpleImputer\n",
    "\n",
    "imp_mean = SimpleImputer(strategy = 'median')\n",
    "imp_mean.fit(tv_train_init)\n",
    "tv_train_fill = pd.DataFrame(imp_mean.transform(tv_train_init), columns = tv_train_init.columns)\n",
    "tv_test_fill = pd.DataFrame(imp_mean.transform(tv_test_init), columns = tv_test_init.columns)"
   ]
  },
  {
   "cell_type": "code",
   "execution_count": 148,
   "metadata": {
    "ExecuteTime": {
     "end_time": "2019-07-15T00:49:19.333844Z",
     "start_time": "2019-07-15T00:49:19.314614Z"
    },
    "colab": {},
    "colab_type": "code",
    "id": "4F1u6QSQ7Lbl"
   },
   "outputs": [
    {
     "name": "stdout",
     "output_type": "stream",
     "text": [
      "video_id                         0\n",
      "cvt_per_day                      0\n",
      "weighted_categorical_position    0\n",
      "weighted_horizontal_poition      0\n",
      "imdb_votes                       0\n",
      "budget                           0\n",
      "boxoffice                        0\n",
      "imdb_rating                      0\n",
      "duration_in_mins                 0\n",
      "metacritic_score                 0\n",
      "star_category                    0\n",
      "import_id_lionsgate              0\n",
      "import_id_mgm                    0\n",
      "import_id_other                  0\n",
      "import_id_paramount              0\n",
      "mpaa_G                           0\n",
      "mpaa_NC-17                       0\n",
      "mpaa_NotRated                    0\n",
      "mpaa_PG                          0\n",
      "mpaa_PG-13                       0\n",
      "mpaa_R                           0\n",
      "awards_BAFTA                     0\n",
      "awards_Golden Globe              0\n",
      "awards_Oscar                     0\n",
      "awards_no award                  0\n",
      "awards_other award               0\n",
      "Action                           0\n",
      "Adult                            0\n",
      "Adventure                        0\n",
      "Animation                        0\n",
      "                                ..\n",
      "Drama                            0\n",
      "Fantasy                          0\n",
      "Foreign/International            0\n",
      "Holiday                          0\n",
      "Horror                           0\n",
      "Independent                      0\n",
      "Kids & Family                    0\n",
      "LGBT                             0\n",
      "Lifestyle                        0\n",
      "Music                            0\n",
      "Musicals                         0\n",
      "Mystery                          0\n",
      "Reality                          0\n",
      "Romance                          0\n",
      "Sci-Fi                           0\n",
      "Sport                            0\n",
      "Thriller                         0\n",
      "War                              0\n",
      "Western                          0\n",
      "other                            0\n",
      "1916-1974                        0\n",
      "1974-1991                        0\n",
      "1991-2001                        0\n",
      "2001-2006                        0\n",
      "2006-2008                        0\n",
      "2008-2010                        0\n",
      "2010-2012                        0\n",
      " 2012-2013                       0\n",
      "2013-2014                        0\n",
      "2014-2017                        0\n",
      "Length: 64, dtype: int64\n",
      "video_id                         0\n",
      "cvt_per_day                      0\n",
      "weighted_categorical_position    0\n",
      "weighted_horizontal_poition      0\n",
      "imdb_votes                       0\n",
      "budget                           0\n",
      "boxoffice                        0\n",
      "imdb_rating                      0\n",
      "duration_in_mins                 0\n",
      "metacritic_score                 0\n",
      "star_category                    0\n",
      "import_id_lionsgate              0\n",
      "import_id_mgm                    0\n",
      "import_id_other                  0\n",
      "import_id_paramount              0\n",
      "mpaa_G                           0\n",
      "mpaa_NC-17                       0\n",
      "mpaa_NotRated                    0\n",
      "mpaa_PG                          0\n",
      "mpaa_PG-13                       0\n",
      "mpaa_R                           0\n",
      "awards_BAFTA                     0\n",
      "awards_Golden Globe              0\n",
      "awards_Oscar                     0\n",
      "awards_no award                  0\n",
      "awards_other award               0\n",
      "Action                           0\n",
      "Adult                            0\n",
      "Adventure                        0\n",
      "Animation                        0\n",
      "                                ..\n",
      "Drama                            0\n",
      "Fantasy                          0\n",
      "Foreign/International            0\n",
      "Holiday                          0\n",
      "Horror                           0\n",
      "Independent                      0\n",
      "Kids & Family                    0\n",
      "LGBT                             0\n",
      "Lifestyle                        0\n",
      "Music                            0\n",
      "Musicals                         0\n",
      "Mystery                          0\n",
      "Reality                          0\n",
      "Romance                          0\n",
      "Sci-Fi                           0\n",
      "Sport                            0\n",
      "Thriller                         0\n",
      "War                              0\n",
      "Western                          0\n",
      "other                            0\n",
      "1916-1974                        0\n",
      "1974-1991                        0\n",
      "1991-2001                        0\n",
      "2001-2006                        0\n",
      "2006-2008                        0\n",
      "2008-2010                        0\n",
      "2010-2012                        0\n",
      " 2012-2013                       0\n",
      "2013-2014                        0\n",
      "2014-2017                        0\n",
      "Length: 64, dtype: int64\n"
     ]
    }
   ],
   "source": [
    "print(tv_train_fill.isnull().sum())\n",
    "print(tv_test_fill.isnull().sum())"
   ]
  },
  {
   "cell_type": "markdown",
   "metadata": {
    "colab_type": "text",
    "id": "mGjgoSZNBasQ"
   },
   "source": [
    "### Using KNN Regression"
   ]
  },
  {
   "cell_type": "code",
   "execution_count": 35,
   "metadata": {
    "ExecuteTime": {
     "end_time": "2019-07-15T22:01:26.722547Z",
     "start_time": "2019-07-15T22:01:26.705103Z"
    },
    "colab": {},
    "colab_type": "code",
    "id": "r2Dec-LgBcK5",
    "scrolled": false
   },
   "outputs": [
    {
     "name": "stdout",
     "output_type": "stream",
     "text": [
      "video_id                         0\n",
      "cvt_per_day                      0\n",
      "weighted_categorical_position    0\n",
      "weighted_horizontal_poition      0\n",
      "imdb_votes                       0\n",
      "budget                           0\n",
      "boxoffice                        0\n",
      "imdb_rating                      0\n",
      "duration_in_mins                 0\n",
      "metacritic_score                 0\n",
      "star_category                    0\n",
      "import_id_lionsgate              0\n",
      "import_id_mgm                    0\n",
      "import_id_other                  0\n",
      "import_id_paramount              0\n",
      "mpaa_G                           0\n",
      "mpaa_NC-17                       0\n",
      "mpaa_NotRated                    0\n",
      "mpaa_PG                          0\n",
      "mpaa_PG-13                       0\n",
      "mpaa_R                           0\n",
      "awards_BAFTA                     0\n",
      "awards_Golden Globe              0\n",
      "awards_Oscar                     0\n",
      "awards_no award                  0\n",
      "awards_other award               0\n",
      "Action                           0\n",
      "Adventure                        0\n",
      "Animation                        0\n",
      "Comedy                           0\n",
      "Crime                            0\n",
      "Documentary                      0\n",
      "Drama                            0\n",
      "Fantasy                          0\n",
      "Foreign/International            0\n",
      "Horror                           0\n",
      "Independent                      0\n",
      "Kids & Family                    0\n",
      "Music                            0\n",
      "Musicals                         0\n",
      "Mystery                          0\n",
      "Romance                          0\n",
      "Sci-Fi                           0\n",
      "Sport                            0\n",
      "Thriller                         0\n",
      "War                              0\n",
      "Western                          0\n",
      "other                            0\n",
      "1916-1974                        0\n",
      "1974-1991                        0\n",
      "1991-2001                        0\n",
      "2001-2006                        0\n",
      "2006-2008                        0\n",
      "2008-2010                        0\n",
      "2010-2012                        0\n",
      " 2012-2013                       0\n",
      "2013-2014                        0\n",
      "2014-2017                        0\n",
      "dtype: int64\n"
     ]
    }
   ],
   "source": [
    "print(tv_train_fillknn.isnull().sum())"
   ]
  },
  {
   "cell_type": "code",
   "execution_count": 30,
   "metadata": {
    "ExecuteTime": {
     "end_time": "2019-07-15T22:00:51.542274Z",
     "start_time": "2019-07-15T22:00:51.494965Z"
    }
   },
   "outputs": [],
   "source": [
    "tv_train_tmp = tv_train_init.copy()\n",
    "tv_test_tmp = tv_test_init.copy()\n",
    "fill_median_lst = ['imdb_votes', 'imdb_rating']\n",
    "tv_train_tmp = tv_train_tmp.apply(lambda x: x.fillna(x.median()) if x.name in fill_median_lst else x)\n",
    "tv_test_tmp = tv_test_tmp.apply(lambda x: x.fillna(tv_train_tmp[x.name].median()) if x.name in fill_median_lst else x)"
   ]
  },
  {
   "cell_type": "code",
   "execution_count": 33,
   "metadata": {
    "ExecuteTime": {
     "end_time": "2019-07-15T22:01:11.245331Z",
     "start_time": "2019-07-15T22:01:10.906158Z"
    }
   },
   "outputs": [],
   "source": [
    "from sklearn.neighbors import KNeighborsRegressor\n",
    "fill_knn_lst = ['budget', 'boxoffice', 'metacritic_score', 'star_category']\n",
    "idx_with_nan = tv_train_tmp.isnull().any(axis = 1)\n",
    "#fill_test_dict = {}\n",
    "#fill_train_dict = {}\n",
    "tv_train_fillknn = tv_train_tmp.copy()\n",
    "tv_test_fillknn = tv_test_tmp.copy()\n",
    "\n",
    "for ind, col in enumerate(fill_knn_lst):\n",
    "    X = tv_train_tmp.drop(columns = ['video_id', 'cvt_per_day'])\n",
    "    X = X.drop(columns = [x for i,x in enumerate(fill_knn_lst) if i != ind])\n",
    "    idx_with_nan = X.isnull().any(axis=1)\n",
    "    X_with_nan = X[idx_with_nan]\n",
    "    X_no_nan = X[-idx_with_nan]\n",
    "    \n",
    "    X_test = tv_test_tmp.drop(columns = ['video_id', 'cvt_per_day'])\n",
    "    X_test = X_test.drop(columns = [x for i,x in enumerate(fill_knn_lst) if i != ind])\n",
    "    idx_test_with_nan = X_test.isnull().any(axis=1)\n",
    "    X_test_with_nan = X_test[idx_test_with_nan]\n",
    "    \n",
    "    clf = KNeighborsRegressor(5, weights='distance')\n",
    "    clf.fit(X_no_nan.drop(columns = col), X_no_nan[col])\n",
    "    \n",
    "    x_imputed = clf.predict(X_with_nan.drop(columns = col))\n",
    "    x_test_imputed = clf.predict(X_test_with_nan.drop(columns = col))\n",
    "    \n",
    "    tv_train_fillknn.loc[idx_with_nan, col] = x_imputed.reshape(-1, 1)\n",
    "    tv_test_fillknn.loc[idx_test_with_nan, col] = x_test_imputed.reshape(-1, 1)"
   ]
  },
  {
   "cell_type": "markdown",
   "metadata": {
    "colab_type": "text",
    "id": "YkE4ag4VBhVO"
   },
   "source": [
    "## Feature Scaling"
   ]
  },
  {
   "cell_type": "markdown",
   "metadata": {
    "colab_type": "text",
    "id": "nkEpoZMRBlDW"
   },
   "source": [
    "The impact of different scaling methods on the model performance is small. In the following model training and selections, the standard scaling (sc) data is used. \n",
    "\n",
    "归一化（min max） 标准化（mean sd to get Gaussian）"
   ]
  },
  {
   "cell_type": "code",
   "execution_count": null,
   "metadata": {
    "ExecuteTime": {
     "end_time": "2019-07-15T00:54:21.432517Z",
     "start_time": "2019-07-15T00:54:21.361911Z"
    },
    "colab": {},
    "colab_type": "code",
    "id": "_7dhyHEZEGxM"
   },
   "outputs": [],
   "source": [
    "#Standard scaling\n",
    "scale_lst = ['weighted_categorical_position', 'weighted_horizontal_poition', 'budget','boxoffice', \n",
    "             'imdb_votes','imdb_rating','duration_in_mins', 'metacritic_score','star_category']\n",
    "\n",
    "from sklearn import preprocessing\n",
    "\n",
    "tv_train = tv_train_fill.copy()\n",
    "tv_test = tv_test_fill.copy()\n",
    "\n",
    "sc_scale = preprocessing.StandardScaler().fit(tv_train_fill[scale_lst])\n",
    "tv_train[scale_lst] = sc_scale.transform(tv_train_fill[scale_lst])\n",
    "tv_test[scale_lst] = sc_scale.transform(tv_test_fill[scale_lst])\n",
    "\n",
    "tv_test.head(n = 10)"
   ]
  },
  {
   "cell_type": "code",
   "execution_count": 36,
   "metadata": {
    "ExecuteTime": {
     "end_time": "2019-07-15T22:01:32.561661Z",
     "start_time": "2019-07-15T22:01:32.491721Z"
    }
   },
   "outputs": [
    {
     "data": {
      "text/html": [
       "<div>\n",
       "<style scoped>\n",
       "    .dataframe tbody tr th:only-of-type {\n",
       "        vertical-align: middle;\n",
       "    }\n",
       "\n",
       "    .dataframe tbody tr th {\n",
       "        vertical-align: top;\n",
       "    }\n",
       "\n",
       "    .dataframe thead th {\n",
       "        text-align: right;\n",
       "    }\n",
       "</style>\n",
       "<table border=\"1\" class=\"dataframe\">\n",
       "  <thead>\n",
       "    <tr style=\"text-align: right;\">\n",
       "      <th></th>\n",
       "      <th>video_id</th>\n",
       "      <th>cvt_per_day</th>\n",
       "      <th>weighted_categorical_position</th>\n",
       "      <th>weighted_horizontal_poition</th>\n",
       "      <th>imdb_votes</th>\n",
       "      <th>budget</th>\n",
       "      <th>boxoffice</th>\n",
       "      <th>imdb_rating</th>\n",
       "      <th>duration_in_mins</th>\n",
       "      <th>metacritic_score</th>\n",
       "      <th>...</th>\n",
       "      <th>1916-1974</th>\n",
       "      <th>1974-1991</th>\n",
       "      <th>1991-2001</th>\n",
       "      <th>2001-2006</th>\n",
       "      <th>2006-2008</th>\n",
       "      <th>2008-2010</th>\n",
       "      <th>2010-2012</th>\n",
       "      <th>2012-2013</th>\n",
       "      <th>2013-2014</th>\n",
       "      <th>2014-2017</th>\n",
       "    </tr>\n",
       "  </thead>\n",
       "  <tbody>\n",
       "    <tr>\n",
       "      <th>3692</th>\n",
       "      <td>387304</td>\n",
       "      <td>175.674158</td>\n",
       "      <td>2.753335</td>\n",
       "      <td>-1.273336</td>\n",
       "      <td>-0.039973</td>\n",
       "      <td>-0.222060</td>\n",
       "      <td>0.623301</td>\n",
       "      <td>1.372316</td>\n",
       "      <td>0.560277</td>\n",
       "      <td>0.284383</td>\n",
       "      <td>...</td>\n",
       "      <td>1</td>\n",
       "      <td>0</td>\n",
       "      <td>0</td>\n",
       "      <td>0</td>\n",
       "      <td>0</td>\n",
       "      <td>0</td>\n",
       "      <td>0</td>\n",
       "      <td>0</td>\n",
       "      <td>0</td>\n",
       "      <td>0</td>\n",
       "    </tr>\n",
       "    <tr>\n",
       "      <th>198</th>\n",
       "      <td>307756</td>\n",
       "      <td>15525.886037</td>\n",
       "      <td>-0.454451</td>\n",
       "      <td>-1.611042</td>\n",
       "      <td>-0.011181</td>\n",
       "      <td>-0.222060</td>\n",
       "      <td>0.623301</td>\n",
       "      <td>0.395851</td>\n",
       "      <td>-0.064455</td>\n",
       "      <td>0.284383</td>\n",
       "      <td>...</td>\n",
       "      <td>0</td>\n",
       "      <td>0</td>\n",
       "      <td>1</td>\n",
       "      <td>0</td>\n",
       "      <td>0</td>\n",
       "      <td>0</td>\n",
       "      <td>0</td>\n",
       "      <td>0</td>\n",
       "      <td>0</td>\n",
       "      <td>0</td>\n",
       "    </tr>\n",
       "    <tr>\n",
       "      <th>2593</th>\n",
       "      <td>307212</td>\n",
       "      <td>728.070473</td>\n",
       "      <td>-0.133673</td>\n",
       "      <td>1.850446</td>\n",
       "      <td>0.170482</td>\n",
       "      <td>-0.249599</td>\n",
       "      <td>-0.291775</td>\n",
       "      <td>1.023579</td>\n",
       "      <td>0.269331</td>\n",
       "      <td>0.284383</td>\n",
       "      <td>...</td>\n",
       "      <td>0</td>\n",
       "      <td>0</td>\n",
       "      <td>1</td>\n",
       "      <td>0</td>\n",
       "      <td>0</td>\n",
       "      <td>0</td>\n",
       "      <td>0</td>\n",
       "      <td>0</td>\n",
       "      <td>0</td>\n",
       "      <td>0</td>\n",
       "    </tr>\n",
       "    <tr>\n",
       "      <th>202</th>\n",
       "      <td>393894</td>\n",
       "      <td>15145.267596</td>\n",
       "      <td>-0.133673</td>\n",
       "      <td>-1.442189</td>\n",
       "      <td>1.517560</td>\n",
       "      <td>-0.222060</td>\n",
       "      <td>0.623301</td>\n",
       "      <td>1.093326</td>\n",
       "      <td>1.011458</td>\n",
       "      <td>1.360675</td>\n",
       "      <td>...</td>\n",
       "      <td>0</td>\n",
       "      <td>1</td>\n",
       "      <td>0</td>\n",
       "      <td>0</td>\n",
       "      <td>0</td>\n",
       "      <td>0</td>\n",
       "      <td>0</td>\n",
       "      <td>0</td>\n",
       "      <td>0</td>\n",
       "      <td>0</td>\n",
       "    </tr>\n",
       "    <tr>\n",
       "      <th>4044</th>\n",
       "      <td>341534</td>\n",
       "      <td>78.540809</td>\n",
       "      <td>-0.775230</td>\n",
       "      <td>0.161916</td>\n",
       "      <td>-0.210763</td>\n",
       "      <td>-0.411390</td>\n",
       "      <td>-0.333179</td>\n",
       "      <td>0.953831</td>\n",
       "      <td>-0.424586</td>\n",
       "      <td>-1.027997</td>\n",
       "      <td>...</td>\n",
       "      <td>0</td>\n",
       "      <td>0</td>\n",
       "      <td>0</td>\n",
       "      <td>0</td>\n",
       "      <td>0</td>\n",
       "      <td>0</td>\n",
       "      <td>0</td>\n",
       "      <td>0</td>\n",
       "      <td>0</td>\n",
       "      <td>1</td>\n",
       "    </tr>\n",
       "    <tr>\n",
       "      <th>1905</th>\n",
       "      <td>320084</td>\n",
       "      <td>1452.372137</td>\n",
       "      <td>-0.294062</td>\n",
       "      <td>0.330769</td>\n",
       "      <td>-0.209026</td>\n",
       "      <td>-0.361834</td>\n",
       "      <td>-0.360784</td>\n",
       "      <td>-0.092382</td>\n",
       "      <td>0.227467</td>\n",
       "      <td>-1.542858</td>\n",
       "      <td>...</td>\n",
       "      <td>0</td>\n",
       "      <td>0</td>\n",
       "      <td>1</td>\n",
       "      <td>0</td>\n",
       "      <td>0</td>\n",
       "      <td>0</td>\n",
       "      <td>0</td>\n",
       "      <td>0</td>\n",
       "      <td>0</td>\n",
       "      <td>0</td>\n",
       "    </tr>\n",
       "    <tr>\n",
       "      <th>1053</th>\n",
       "      <td>326898</td>\n",
       "      <td>3360.930062</td>\n",
       "      <td>-0.775230</td>\n",
       "      <td>0.330769</td>\n",
       "      <td>-0.196061</td>\n",
       "      <td>0.511574</td>\n",
       "      <td>-0.343886</td>\n",
       "      <td>0.674841</td>\n",
       "      <td>0.074948</td>\n",
       "      <td>0.968751</td>\n",
       "      <td>...</td>\n",
       "      <td>0</td>\n",
       "      <td>0</td>\n",
       "      <td>1</td>\n",
       "      <td>0</td>\n",
       "      <td>0</td>\n",
       "      <td>0</td>\n",
       "      <td>0</td>\n",
       "      <td>0</td>\n",
       "      <td>0</td>\n",
       "      <td>0</td>\n",
       "    </tr>\n",
       "    <tr>\n",
       "      <th>3976</th>\n",
       "      <td>281667</td>\n",
       "      <td>95.894983</td>\n",
       "      <td>-0.614841</td>\n",
       "      <td>-0.513497</td>\n",
       "      <td>-0.211181</td>\n",
       "      <td>-0.390257</td>\n",
       "      <td>-0.343493</td>\n",
       "      <td>0.465599</td>\n",
       "      <td>-1.571481</td>\n",
       "      <td>-0.756320</td>\n",
       "      <td>...</td>\n",
       "      <td>0</td>\n",
       "      <td>0</td>\n",
       "      <td>0</td>\n",
       "      <td>0</td>\n",
       "      <td>0</td>\n",
       "      <td>0</td>\n",
       "      <td>0</td>\n",
       "      <td>1</td>\n",
       "      <td>0</td>\n",
       "      <td>0</td>\n",
       "    </tr>\n",
       "    <tr>\n",
       "      <th>2244</th>\n",
       "      <td>367685</td>\n",
       "      <td>1048.932964</td>\n",
       "      <td>-0.294062</td>\n",
       "      <td>1.343887</td>\n",
       "      <td>-0.182292</td>\n",
       "      <td>-0.271205</td>\n",
       "      <td>-0.356016</td>\n",
       "      <td>-2.045312</td>\n",
       "      <td>0.048642</td>\n",
       "      <td>-0.850065</td>\n",
       "      <td>...</td>\n",
       "      <td>0</td>\n",
       "      <td>0</td>\n",
       "      <td>0</td>\n",
       "      <td>0</td>\n",
       "      <td>0</td>\n",
       "      <td>0</td>\n",
       "      <td>1</td>\n",
       "      <td>0</td>\n",
       "      <td>0</td>\n",
       "      <td>0</td>\n",
       "    </tr>\n",
       "    <tr>\n",
       "      <th>1351</th>\n",
       "      <td>374424</td>\n",
       "      <td>2438.380055</td>\n",
       "      <td>1.149442</td>\n",
       "      <td>-0.597923</td>\n",
       "      <td>-0.211052</td>\n",
       "      <td>-0.347137</td>\n",
       "      <td>-0.335222</td>\n",
       "      <td>0.465599</td>\n",
       "      <td>0.112026</td>\n",
       "      <td>-0.782921</td>\n",
       "      <td>...</td>\n",
       "      <td>0</td>\n",
       "      <td>0</td>\n",
       "      <td>0</td>\n",
       "      <td>0</td>\n",
       "      <td>0</td>\n",
       "      <td>0</td>\n",
       "      <td>1</td>\n",
       "      <td>0</td>\n",
       "      <td>0</td>\n",
       "      <td>0</td>\n",
       "    </tr>\n",
       "  </tbody>\n",
       "</table>\n",
       "<p>10 rows × 58 columns</p>\n",
       "</div>"
      ],
      "text/plain": [
       "     video_id   cvt_per_day  weighted_categorical_position  \\\n",
       "3692   387304    175.674158                       2.753335   \n",
       "198    307756  15525.886037                      -0.454451   \n",
       "2593   307212    728.070473                      -0.133673   \n",
       "202    393894  15145.267596                      -0.133673   \n",
       "4044   341534     78.540809                      -0.775230   \n",
       "1905   320084   1452.372137                      -0.294062   \n",
       "1053   326898   3360.930062                      -0.775230   \n",
       "3976   281667     95.894983                      -0.614841   \n",
       "2244   367685   1048.932964                      -0.294062   \n",
       "1351   374424   2438.380055                       1.149442   \n",
       "\n",
       "      weighted_horizontal_poition  imdb_votes    budget  boxoffice  \\\n",
       "3692                    -1.273336   -0.039973 -0.222060   0.623301   \n",
       "198                     -1.611042   -0.011181 -0.222060   0.623301   \n",
       "2593                     1.850446    0.170482 -0.249599  -0.291775   \n",
       "202                     -1.442189    1.517560 -0.222060   0.623301   \n",
       "4044                     0.161916   -0.210763 -0.411390  -0.333179   \n",
       "1905                     0.330769   -0.209026 -0.361834  -0.360784   \n",
       "1053                     0.330769   -0.196061  0.511574  -0.343886   \n",
       "3976                    -0.513497   -0.211181 -0.390257  -0.343493   \n",
       "2244                     1.343887   -0.182292 -0.271205  -0.356016   \n",
       "1351                    -0.597923   -0.211052 -0.347137  -0.335222   \n",
       "\n",
       "      imdb_rating  duration_in_mins  metacritic_score  ...  1916-1974  \\\n",
       "3692     1.372316          0.560277          0.284383  ...          1   \n",
       "198      0.395851         -0.064455          0.284383  ...          0   \n",
       "2593     1.023579          0.269331          0.284383  ...          0   \n",
       "202      1.093326          1.011458          1.360675  ...          0   \n",
       "4044     0.953831         -0.424586         -1.027997  ...          0   \n",
       "1905    -0.092382          0.227467         -1.542858  ...          0   \n",
       "1053     0.674841          0.074948          0.968751  ...          0   \n",
       "3976     0.465599         -1.571481         -0.756320  ...          0   \n",
       "2244    -2.045312          0.048642         -0.850065  ...          0   \n",
       "1351     0.465599          0.112026         -0.782921  ...          0   \n",
       "\n",
       "      1974-1991  1991-2001  2001-2006  2006-2008  2008-2010  2010-2012  \\\n",
       "3692          0          0          0          0          0          0   \n",
       "198           0          1          0          0          0          0   \n",
       "2593          0          1          0          0          0          0   \n",
       "202           1          0          0          0          0          0   \n",
       "4044          0          0          0          0          0          0   \n",
       "1905          0          1          0          0          0          0   \n",
       "1053          0          1          0          0          0          0   \n",
       "3976          0          0          0          0          0          0   \n",
       "2244          0          0          0          0          0          1   \n",
       "1351          0          0          0          0          0          1   \n",
       "\n",
       "       2012-2013  2013-2014  2014-2017  \n",
       "3692           0          0          0  \n",
       "198            0          0          0  \n",
       "2593           0          0          0  \n",
       "202            0          0          0  \n",
       "4044           0          0          1  \n",
       "1905           0          0          0  \n",
       "1053           0          0          0  \n",
       "3976           1          0          0  \n",
       "2244           0          0          0  \n",
       "1351           0          0          0  \n",
       "\n",
       "[10 rows x 58 columns]"
      ]
     },
     "execution_count": 36,
     "metadata": {},
     "output_type": "execute_result"
    }
   ],
   "source": [
    "#Standard scaling knn\n",
    "scale_lst = ['weighted_categorical_position', 'weighted_horizontal_poition', 'budget','boxoffice', \n",
    "             'imdb_votes','imdb_rating','duration_in_mins', 'metacritic_score','star_category']\n",
    "\n",
    "from sklearn import preprocessing\n",
    "\n",
    "tv_train = tv_train_fillknn.copy()\n",
    "tv_test = tv_test_fillknn.copy()\n",
    "\n",
    "sc_scale = preprocessing.StandardScaler().fit(tv_train_fillknn[scale_lst])\n",
    "tv_train[scale_lst] = sc_scale.transform(tv_train_fillknn[scale_lst])\n",
    "tv_test[scale_lst] = sc_scale.transform(tv_test_fillknn[scale_lst])\n",
    "\n",
    "tv_test.head(n = 10)"
   ]
  },
  {
   "cell_type": "code",
   "execution_count": null,
   "metadata": {
    "colab": {},
    "colab_type": "code",
    "id": "L_w38KHqErpw"
   },
   "outputs": [],
   "source": [
    "# MinMax scaling\n",
    "#new_tv_mm = new_tv_fill.copy()\n",
    "#mm_scale = preprocessing.MinMaxScaler().fit(new_tv_mm[scale_lst])\n",
    "#new_tv_mm[scale_lst] = mm_scale.transform(new_tv_mm[scale_lst])"
   ]
  },
  {
   "cell_type": "code",
   "execution_count": null,
   "metadata": {
    "colab": {},
    "colab_type": "code",
    "id": "_up8QM3jUDUU"
   },
   "outputs": [],
   "source": [
    "# Robust scaling\n",
    "#new_tv_rs = new_tv_fill.copy()\n",
    "#rs_scale = preprocessing.RobustScaler().fit(new_tv_rs[scale_lst])\n",
    "#new_tv_rs[scale_lst] = rs_scale.transform(new_tv_rs[scale_lst])"
   ]
  },
  {
   "cell_type": "markdown",
   "metadata": {
    "colab_type": "text",
    "id": "zisEd72BGU8u"
   },
   "source": [
    "## Final Plot"
   ]
  },
  {
   "cell_type": "code",
   "execution_count": 37,
   "metadata": {
    "ExecuteTime": {
     "end_time": "2019-07-15T22:01:39.715799Z",
     "start_time": "2019-07-15T22:01:37.507665Z"
    },
    "colab": {},
    "colab_type": "code",
    "id": "2K6sryxOsJ9X"
   },
   "outputs": [
    {
     "data": {
      "image/png": "[encoded data removed]",
      "text/plain": [
       "<Figure size 576x576 with 9 Axes>"
      ]
     },
     "metadata": {
      "needs_background": "light"
     },
     "output_type": "display_data"
    }
   ],
   "source": [
    "tv_plot_lst = ['weighted_categorical_position',\n",
    "       'weighted_horizontal_poition', 'imdb_votes', 'budget', 'boxoffice',\n",
    "       'imdb_rating', 'duration_in_mins', 'metacritic_score', 'star_category']\n",
    "index = 0\n",
    "\n",
    "fig, axes = plt.subplots(3,3, figsize=(8,8), sharey = True)\n",
    "axes = axes.flatten()\n",
    "for ax in axes:\n",
    "    sns.scatterplot(tv_train[tv_plot_lst[index]], tv_train['cvt_per_day'], ax=ax)\n",
    "    index += 1\n",
    "\n",
    "plt.tight_layout()  \n",
    "plt.show()"
   ]
  },
  {
   "cell_type": "markdown",
   "metadata": {
    "colab_type": "text",
    "id": "okhqeVRIUYR9"
   },
   "source": [
    "# Part 3: Model Training"
   ]
  },
  {
   "cell_type": "markdown",
   "metadata": {
    "colab_type": "text",
    "id": "PcQlPX1YFyRr"
   },
   "source": [
    "## Feature and Outcome Split"
   ]
  },
  {
   "cell_type": "code",
   "execution_count": 38,
   "metadata": {
    "ExecuteTime": {
     "end_time": "2019-07-15T22:01:42.156179Z",
     "start_time": "2019-07-15T22:01:42.145141Z"
    },
    "colab": {},
    "colab_type": "code",
    "id": "kGBbZGE7Fvsx"
   },
   "outputs": [],
   "source": [
    "tv_train_x = tv_train.drop(['video_id', 'cvt_per_day'], axis = 1)\n",
    "tv_test_x = tv_test.drop(['video_id', 'cvt_per_day'], axis = 1)\n",
    "tv_train_y = tv_train['cvt_per_day']\n",
    "tv_test_y = tv_test['cvt_per_day']"
   ]
  },
  {
   "cell_type": "markdown",
   "metadata": {
    "colab_type": "text",
    "id": "UCu7WbaHbMlN"
   },
   "source": [
    "## Linear Model"
   ]
  },
  {
   "cell_type": "markdown",
   "metadata": {
    "colab_type": "text",
    "id": "o_OltH2xhLHD"
   },
   "source": [
    "All the features are linear"
   ]
  },
  {
   "cell_type": "code",
   "execution_count": 39,
   "metadata": {
    "ExecuteTime": {
     "end_time": "2019-07-15T22:01:54.154176Z",
     "start_time": "2019-07-15T22:01:54.026853Z"
    },
    "colab": {},
    "colab_type": "code",
    "id": "lkmdGdnTvdpI"
   },
   "outputs": [],
   "source": [
    "from sklearn.linear_model import LinearRegression, Lasso, Ridge\n",
    "from sklearn.ensemble import RandomForestRegressor, GradientBoostingRegressor\n",
    "from sklearn.preprocessing import PolynomialFeatures\n",
    "from sklearn.pipeline import make_pipeline\n",
    "\n",
    "from sklearn.metrics import mean_squared_error, r2_score\n",
    "from sklearn.model_selection import GridSearchCV\n",
    "from sklearn.model_selection import cross_val_score\n",
    "from sklearn.model_selection import cross_validate\n",
    "\n",
    "#sorted(sklearn.metrics.SCORERS.keys())"
   ]
  },
  {
   "cell_type": "markdown",
   "metadata": {
    "colab_type": "text",
    "id": "xaK-DpUVwvJ7"
   },
   "source": [
    "### Linear Regression"
   ]
  },
  {
   "cell_type": "code",
   "execution_count": 40,
   "metadata": {
    "ExecuteTime": {
     "end_time": "2019-07-15T22:01:55.699127Z",
     "start_time": "2019-07-15T22:01:55.658595Z"
    },
    "colab": {},
    "colab_type": "code",
    "id": "E4F3ZPPNwyxw"
   },
   "outputs": [
    {
     "name": "stdout",
     "output_type": "stream",
     "text": [
      "Negative Mean Squared Error: -208139910.20916826\n"
     ]
    }
   ],
   "source": [
    "lr = LinearRegression()\n",
    "lr.fit(tv_train_x, tv_train_y)\n",
    "lr_pred = lr.predict(tv_test_x)\n",
    "print('Negative Mean Squared Error:', -mean_squared_error(tv_test_y, lr_pred))  "
   ]
  },
  {
   "cell_type": "markdown",
   "metadata": {
    "colab_type": "text",
    "id": "ZN-aF-pFGzEk"
   },
   "source": [
    "### Polynomial Regression (why so slow?)"
   ]
  },
  {
   "cell_type": "code",
   "execution_count": 41,
   "metadata": {
    "ExecuteTime": {
     "end_time": "2019-07-15T22:01:59.657753Z",
     "start_time": "2019-07-15T22:01:59.653217Z"
    }
   },
   "outputs": [],
   "source": [
    "#poly = PolynomialFeatures(4)\n",
    "#pr_train_xp = poly.fit_transform(tv_train_x)\n",
    "#pr_test_xp = poly.fit_transform(tv_test_x)\n",
    "\n",
    "#pr = LinearRegression()\n",
    "#pr.fit(pr_train_xp, tv_train_y)\n",
    "#pr_pred = pr.predict(pr_test_xp)\n",
    "#print('Negative Mean Squared Error:', -mean_squared_error(tv_test_y, pr_pred))  "
   ]
  },
  {
   "cell_type": "markdown",
   "metadata": {
    "colab_type": "text",
    "id": "x6blYEUR0GYM"
   },
   "source": [
    "### Ridge with Linear Regression"
   ]
  },
  {
   "cell_type": "code",
   "execution_count": 46,
   "metadata": {
    "ExecuteTime": {
     "end_time": "2019-07-15T22:04:37.177893Z",
     "start_time": "2019-07-15T22:04:27.606678Z"
    },
    "colab": {},
    "colab_type": "code",
    "id": "PeNzlp8R0F7e"
   },
   "outputs": [
    {
     "name": "stdout",
     "output_type": "stream",
     "text": [
      "{'alpha': 134.12717530678955}\n",
      "-114660514.0337854\n"
     ]
    }
   ],
   "source": [
    "ridge = Ridge(random_state = 100)\n",
    "param = {'alpha': np.logspace(-10, 3, num = 150)}\n",
    "#param = {'alpha' : np.linspace(10**(-2), 10**(2), 100)}\n",
    "ridge_grid = GridSearchCV(ridge, param, scoring = 'neg_mean_squared_error', cv= 5)\n",
    "ridge_grid.fit(tv_train_x, tv_train_y)\n",
    "\n",
    "ridge_result = ridge_grid.cv_results_\n",
    "\n",
    "print(ridge_grid.best_params_)\n",
    "print(ridge_grid.best_score_)"
   ]
  },
  {
   "cell_type": "code",
   "execution_count": 47,
   "metadata": {
    "ExecuteTime": {
     "end_time": "2019-07-15T22:04:41.035613Z",
     "start_time": "2019-07-15T22:04:40.605234Z"
    },
    "colab": {},
    "colab_type": "code",
    "id": "evKeXsERCQle"
   },
   "outputs": [
    {
     "data": {
      "text/plain": [
       "Text(0, 0.5, 'Negative MSE for Validation')"
      ]
     },
     "execution_count": 47,
     "metadata": {},
     "output_type": "execute_result"
    },
    {
     "data": {
      "image/png": "[encoded data removed]",
      "text/plain": [
       "<Figure size 720x360 with 1 Axes>"
      ]
     },
     "metadata": {
      "needs_background": "light"
     },
     "output_type": "display_data"
    }
   ],
   "source": [
    "fig = plt.figure(figsize=(10,5))\n",
    "sns.lineplot(np.logspace (-10, 3, num = 150), ridge_result['mean_test_score'])\n",
    "plt.title('5-fold CV for Ridge Regression')\n",
    "plt.xlabel('alpha')\n",
    "plt.ylabel('Negative MSE for Validation')"
   ]
  },
  {
   "cell_type": "markdown",
   "metadata": {
    "colab_type": "text",
    "id": "35O-wPQEuAZJ"
   },
   "source": [
    "### Lasso with Linear Regression"
   ]
  },
  {
   "cell_type": "code",
   "execution_count": 48,
   "metadata": {
    "ExecuteTime": {
     "end_time": "2019-07-15T22:05:12.745412Z",
     "start_time": "2019-07-15T22:04:48.453314Z"
    },
    "colab": {},
    "colab_type": "code",
    "id": "oS3hdVLOt4zb"
   },
   "outputs": [
    {
     "name": "stdout",
     "output_type": "stream",
     "text": [
      "{'alpha': 39.62657866072022}\n",
      "-115363544.52033062\n"
     ]
    }
   ],
   "source": [
    "lasso = Lasso(max_iter = 5000, random_state = 100)\n",
    "param = {'alpha': np.logspace (-0.3, 2.5, num = 150)}\n",
    "#param = {'alpha' : np.linspace(10**(-2), 10**(2), 100)}\n",
    "lasso_grid = GridSearchCV(lasso, param, scoring = 'neg_mean_squared_error', cv = 5)\n",
    "lasso_grid.fit(tv_train_x, tv_train_y)\n",
    "\n",
    "lasso_result = lasso_grid.cv_results_\n",
    "\n",
    "print(lasso_grid.best_params_)\n",
    "print(lasso_grid.best_score_)"
   ]
  },
  {
   "cell_type": "code",
   "execution_count": 45,
   "metadata": {
    "ExecuteTime": {
     "end_time": "2019-07-15T22:03:28.641122Z",
     "start_time": "2019-07-15T22:03:28.224688Z"
    },
    "colab": {},
    "colab_type": "code",
    "id": "di1jfG5mEUFY"
   },
   "outputs": [
    {
     "data": {
      "text/plain": [
       "Text(0, 0.5, 'Negative MSE for Validation')"
      ]
     },
     "execution_count": 45,
     "metadata": {},
     "output_type": "execute_result"
    },
    {
     "data": {
      "image/png": "[encoded data removed]",
      "text/plain": [
       "<Figure size 720x360 with 1 Axes>"
      ]
     },
     "metadata": {
      "needs_background": "light"
     },
     "output_type": "display_data"
    }
   ],
   "source": [
    "fig = plt.figure(figsize=(10,5))\n",
    "sns.lineplot(np.logspace (-10, 3, num = 150), lasso_result['mean_test_score'])\n",
    "plt.title('5-fold CV for Lasso Regression')\n",
    "plt.xlabel('alpha')\n",
    "plt.ylabel('Negative MSE for Validation')"
   ]
  },
  {
   "cell_type": "markdown",
   "metadata": {
    "colab_type": "text",
    "id": "KsZYe8p1Em29"
   },
   "source": [
    "## Non-Linear Model"
   ]
  },
  {
   "cell_type": "markdown",
   "metadata": {
    "colab_type": "text",
    "id": "aaR4fu2xT9m_"
   },
   "source": [
    "### Random Forest"
   ]
  },
  {
   "cell_type": "code",
   "execution_count": 49,
   "metadata": {
    "ExecuteTime": {
     "end_time": "2019-07-15T22:12:23.625185Z",
     "start_time": "2019-07-15T22:05:28.458209Z"
    },
    "colab": {},
    "colab_type": "code",
    "id": "lyWi1xlAgrOy"
   },
   "outputs": [
    {
     "data": {
      "text/plain": [
       "GridSearchCV(cv=5, error_score='raise-deprecating',\n",
       "       estimator=RandomForestRegressor(bootstrap=True, criterion='mse', max_depth=None,\n",
       "           max_features='sqrt', max_leaf_nodes=None,\n",
       "           min_impurity_decrease=0.0, min_impurity_split=None,\n",
       "           min_samples_leaf=1, min_samples_split=2,\n",
       "           min_weight_fraction_leaf=0.0, n_estimators='warn', n_jobs=None,\n",
       "           oob_score=False, random_state=100, verbose=0, warm_start=False),\n",
       "       fit_params=None, iid='warn', n_jobs=None,\n",
       "       param_grid={'n_estimators': [55, 56, 57, 58, 59, 60, 61, 62, 63, 64, 65, 66, 67, 68, 69, 70, 71, 72, 73, 75], 'max_depth': [15, 16, 17, 18, 19, 20, 21, 22, 23, 25]},\n",
       "       pre_dispatch='2*n_jobs', refit=True, return_train_score='warn',\n",
       "       scoring='neg_mean_squared_error', verbose=0)"
      ]
     },
     "execution_count": 49,
     "metadata": {},
     "output_type": "execute_result"
    }
   ],
   "source": [
    "param_grid = {\n",
    "                 'n_estimators': [int(x) for x in np.linspace(start = 55, stop = 65, num = 65)],\n",
    "                 'max_depth': [int(x) for x in np.linspace(start = 15, stop = 25, num = 10)]\n",
    "             }\n",
    "rf = RandomForestRegressor(random_state = 100, max_features = 'sqrt')\n",
    "grid_rf = GridSearchCV(rf, param_grid, scoring = 'neg_mean_squared_error', cv = 5)\n",
    "grid_rf.fit(tv_train_x, tv_train_y)"
   ]
  },
  {
   "cell_type": "code",
   "execution_count": 50,
   "metadata": {
    "ExecuteTime": {
     "end_time": "2019-07-15T22:12:29.202691Z",
     "start_time": "2019-07-15T22:12:29.195316Z"
    },
    "colab": {},
    "colab_type": "code",
    "id": "z0hUF2VULt_L"
   },
   "outputs": [
    {
     "name": "stdout",
     "output_type": "stream",
     "text": [
      "{'max_depth': 20, 'n_estimators': 56}\n",
      "-81066195.53575033\n"
     ]
    }
   ],
   "source": [
    "print(grid_rf.best_params_)\n",
    "print(grid_rf.best_score_)"
   ]
  },
  {
   "cell_type": "code",
   "execution_count": 51,
   "metadata": {
    "ExecuteTime": {
     "end_time": "2019-07-15T22:12:41.087176Z",
     "start_time": "2019-07-15T22:12:40.654673Z"
    },
    "colab": {},
    "colab_type": "code",
    "id": "gq-hOHcBOkQY"
   },
   "outputs": [
    {
     "data": {
      "image/png": "[encoded data removed]",
      "text/plain": [
       "<Figure size 432x288 with 1 Axes>"
      ]
     },
     "metadata": {
      "needs_background": "light"
     },
     "output_type": "display_data"
    }
   ],
   "source": [
    "# plot the effect of different number of trees and maximum tree-depth druing cross validation \n",
    "scores = grid_rf.cv_results_['mean_test_score']\n",
    "\n",
    "n_est = [int(x) for x in np.linspace(start = 55, stop = 75, num = 75-55)]\n",
    "m_depth=[int(x) for x in np.linspace(start = 15, stop = 25, num = 10)]\n",
    "\n",
    "scores = np.array(scores).reshape(len(m_depth), len(n_est))\n",
    "fig = plt.figure()\n",
    "ax = plt.subplot(111)\n",
    "\n",
    "for ind, i in enumerate(m_depth):\n",
    "    plt.plot(n_est, scores[ind], '-o', label='max depth.' + str(i),)\n",
    "    \n",
    "ax.legend(loc='center left', bbox_to_anchor=(1, 0.5))\n",
    "plt.ylabel('Mean score')\n",
    "plt.xlabel('Max depth')\n",
    "plt.grid(True)\n",
    "plt.show()\n",
    "# savefig('rf_1')"
   ]
  },
  {
   "cell_type": "code",
   "execution_count": 106,
   "metadata": {
    "ExecuteTime": {
     "end_time": "2019-07-15T23:29:12.081262Z",
     "start_time": "2019-07-15T23:29:11.657267Z"
    },
    "colab": {},
    "colab_type": "code",
    "id": "O40YpUZcUmkc"
   },
   "outputs": [
    {
     "data": {
      "text/plain": [
       "RandomForestRegressor(bootstrap=True, criterion='mse', max_depth=20,\n",
       "           max_features='sqrt', max_leaf_nodes=None,\n",
       "           min_impurity_decrease=0.0, min_impurity_split=None,\n",
       "           min_samples_leaf=1, min_samples_split=2,\n",
       "           min_weight_fraction_leaf=0.0, n_estimators=56, n_jobs=None,\n",
       "           oob_score=False, random_state=100, verbose=0, warm_start=False)"
      ]
     },
     "execution_count": 106,
     "metadata": {},
     "output_type": "execute_result"
    }
   ],
   "source": [
    "rf_best = RandomForestRegressor(random_state = 100, max_features = 'sqrt', max_depth = 20, n_estimators = 56)\n",
    "rf_best.fit(tv_train_x, tv_train_y)"
   ]
  },
  {
   "cell_type": "markdown",
   "metadata": {
    "colab_type": "text",
    "id": "SkE897gkUICJ"
   },
   "source": [
    "### Gradient Boosting"
   ]
  },
  {
   "cell_type": "code",
   "execution_count": 54,
   "metadata": {
    "ExecuteTime": {
     "end_time": "2019-07-15T22:14:33.567496Z",
     "start_time": "2019-07-15T22:14:32.945200Z"
    }
   },
   "outputs": [
    {
     "name": "stdout",
     "output_type": "stream",
     "text": [
      "Default Gradient Boosting MSE: 124605745.06431982\n"
     ]
    }
   ],
   "source": [
    "#Defualt Gradient Boost\n",
    "gbm0 = GradientBoostingRegressor(random_state = 100)\n",
    "gbm0.fit(tv_train_x, tv_train_y)\n",
    "gbm0_pred = gbm0.predict(tv_test_x)\n",
    "print('Default Gradient Boosting MSE:', mean_squared_error(tv_test_y, gbm0_pred))  "
   ]
  },
  {
   "cell_type": "code",
   "execution_count": 96,
   "metadata": {
    "ExecuteTime": {
     "end_time": "2019-07-15T23:08:48.827646Z",
     "start_time": "2019-07-15T23:01:18.262110Z"
    }
   },
   "outputs": [
    {
     "data": {
      "text/plain": [
       "GridSearchCV(cv=5, error_score='raise-deprecating',\n",
       "       estimator=GradientBoostingRegressor(alpha=0.9, criterion='friedman_mse', init=None,\n",
       "             learning_rate=0.1, loss='ls', max_depth=3,\n",
       "             max_features='sqrt', max_leaf_nodes=None,\n",
       "             min_impurity_decrease=0.0, min_impurity_split=None,\n",
       "             min_samples_leaf=1, min_sam...       subsample=1.0, tol=0.0001, validation_fraction=0.1, verbose=0,\n",
       "             warm_start=False),\n",
       "       fit_params=None, iid=False, n_jobs=None,\n",
       "       param_grid={'n_estimators': range(150, 251, 10), 'max_depth': range(3, 14, 2)},\n",
       "       pre_dispatch='2*n_jobs', refit=True, return_train_score='warn',\n",
       "       scoring='neg_mean_squared_error', verbose=0)"
      ]
     },
     "execution_count": 96,
     "metadata": {},
     "output_type": "execute_result"
    }
   ],
   "source": [
    "param_test1 = {'n_estimators': range(150, 251, 10),  \n",
    "               'max_depth': range(3,14,2)}\n",
    "gbm2 = GradientBoostingRegressor(learning_rate = 0.1, max_features = 'sqrt', random_state = 100)\n",
    "#min_samples_split = 300, min_samples_leaf = 20, max_depth = 8, \n",
    "gsearch1 = GridSearchCV(gbm2, param_grid = param_test1, scoring = 'neg_mean_squared_error', iid = False,cv = 5)\n",
    "gsearch1.fit(tv_train_x, tv_train_y)"
   ]
  },
  {
   "cell_type": "code",
   "execution_count": 97,
   "metadata": {
    "ExecuteTime": {
     "end_time": "2019-07-15T23:08:59.452288Z",
     "start_time": "2019-07-15T23:08:59.437584Z"
    }
   },
   "outputs": [
    {
     "name": "stdout",
     "output_type": "stream",
     "text": [
      "{'max_depth': 11, 'n_estimators': 210} -76902967.69546613\n"
     ]
    },
    {
     "data": {
      "text/plain": [
       "array([-81201071.91544639, -80992367.10541423, -80707790.11051339,\n",
       "       -80380140.8396689 , -80280947.75682083, -79953463.2217408 ,\n",
       "       -79935524.93685558, -79966369.66641408, -79862129.88871172,\n",
       "       -79609053.447915  , -79418358.1563868 , -83816738.84756303,\n",
       "       -83877816.16400687, -83829162.17857473, -83619633.3151848 ,\n",
       "       -83615850.7098097 , -83580503.25999558, -83599874.70253967,\n",
       "       -83677513.21815921, -83817983.76996543, -83734875.03330627,\n",
       "       -83748297.71099168, -84553062.64677614, -84509530.35373566,\n",
       "       -84479705.4518534 , -84453392.0467164 , -84397780.92597632,\n",
       "       -84395287.91614887, -84362638.87924404, -84338000.96520913,\n",
       "       -84339417.20350204, -84315575.05355054, -84284991.94580477,\n",
       "       -83102978.70862982, -83094653.17161945, -83107056.91382982,\n",
       "       -83099817.31056653, -83082133.6642966 , -83081538.6002895 ,\n",
       "       -83072979.64833483, -83068334.01687261, -83072023.39071676,\n",
       "       -83065074.75886291, -83061339.7611527 , -76906238.78627357,\n",
       "       -76908203.3553374 , -76906912.62073058, -76905663.05043769,\n",
       "       -76904467.71512571, -76903692.16673005, -76902967.69546613,\n",
       "       -76903128.8233727 , -76903601.91816933, -76904761.01071203,\n",
       "       -76904339.98259754, -83376201.82426849, -83376918.13719127,\n",
       "       -83376481.49934074, -83376766.49581656, -83376740.13569333,\n",
       "       -83376689.10067429, -83376599.3224555 , -83376560.69665977,\n",
       "       -83376559.76046993, -83376586.85285164, -83376571.82960422])"
      ]
     },
     "execution_count": 97,
     "metadata": {},
     "output_type": "execute_result"
    }
   ],
   "source": [
    "print(gsearch1.best_params_, gsearch1.best_score_)\n",
    "gsearch1_res = gsearch1.cv_results_\n",
    "gsearch1_res['mean_test_score']"
   ]
  },
  {
   "cell_type": "code",
   "execution_count": 102,
   "metadata": {
    "ExecuteTime": {
     "end_time": "2019-07-15T23:25:41.411954Z",
     "start_time": "2019-07-15T23:19:11.682087Z"
    }
   },
   "outputs": [
    {
     "data": {
      "text/plain": [
       "GridSearchCV(cv=5, error_score='raise-deprecating',\n",
       "       estimator=GradientBoostingRegressor(alpha=0.9, criterion='friedman_mse', init=None,\n",
       "             learning_rate=0.1, loss='ls', max_depth=11, max_features=None,\n",
       "             max_leaf_nodes=None, min_impurity_decrease=0.0,\n",
       "             min_impurity_split=None, min_samples_leaf=1,\n",
       "             min_samp...e=100, subsample=1.0, tol=0.0001,\n",
       "             validation_fraction=0.1, verbose=0, warm_start=False),\n",
       "       fit_params=None, iid=False, n_jobs=None,\n",
       "       param_grid={'min_samples_split': range(800, 1500, 200), 'min_samples_leaf': range(100, 201, 10)},\n",
       "       pre_dispatch='2*n_jobs', refit=True, return_train_score='warn',\n",
       "       scoring='neg_mean_squared_error', verbose=0)"
      ]
     },
     "execution_count": 102,
     "metadata": {},
     "output_type": "execute_result"
    }
   ],
   "source": [
    "param_test2 = {'min_samples_split':range(800,1500,200), 'min_samples_leaf':range(100,201,10)}\n",
    "gbm3 = GradientBoostingRegressor(learning_rate = 0.1, n_estimators = 210, max_depth = 11, random_state = 100)\n",
    "gsearch2 = GridSearchCV(gbm3, param_grid = param_test2, scoring = 'neg_mean_squared_error',iid = False, cv = 5)\n",
    "gsearch2.fit(tv_train_x, tv_train_y)"
   ]
  },
  {
   "cell_type": "code",
   "execution_count": 103,
   "metadata": {
    "ExecuteTime": {
     "end_time": "2019-07-15T23:26:04.727168Z",
     "start_time": "2019-07-15T23:26:04.719272Z"
    }
   },
   "outputs": [
    {
     "data": {
      "text/plain": [
       "({'min_samples_leaf': 110, 'min_samples_split': 1000}, -82891986.5423151)"
      ]
     },
     "execution_count": 103,
     "metadata": {},
     "output_type": "execute_result"
    }
   ],
   "source": [
    "gsearch2.best_params_, gsearch2.best_score_"
   ]
  },
  {
   "cell_type": "markdown",
   "metadata": {
    "colab_type": "text",
    "id": "BO16VlNqWS40"
   },
   "source": [
    "# Part 4 Model Evaluation"
   ]
  },
  {
   "cell_type": "markdown",
   "metadata": {
    "colab_type": "text",
    "id": "nW3N7PrwwLyY"
   },
   "source": [
    "## Linea Regression Test"
   ]
  },
  {
   "cell_type": "code",
   "execution_count": 113,
   "metadata": {
    "ExecuteTime": {
     "end_time": "2019-07-16T00:14:49.111240Z",
     "start_time": "2019-07-16T00:14:49.076294Z"
    },
    "colab": {},
    "colab_type": "code",
    "id": "nr7HWLGOWOTy"
   },
   "outputs": [
    {
     "name": "stdout",
     "output_type": "stream",
     "text": [
      "Linear Regression MSE: 208139910.20916826\n"
     ]
    }
   ],
   "source": [
    "lr = LinearRegression()\n",
    "lr.fit(tv_train_x, tv_train_y)\n",
    "lr_pred = lr.predict(tv_test_x)\n",
    "lr_MSE = mean_squared_error(tv_test_y, lr_pred)\n",
    "print('Linear Regression MSE:', lr_MSE)  "
   ]
  },
  {
   "cell_type": "markdown",
   "metadata": {
    "colab_type": "text",
    "id": "OTQ7wMTtwo0F"
   },
   "source": [
    "## Ridge Regression Test"
   ]
  },
  {
   "cell_type": "code",
   "execution_count": 114,
   "metadata": {
    "ExecuteTime": {
     "end_time": "2019-07-16T00:15:01.219013Z",
     "start_time": "2019-07-16T00:15:01.199794Z"
    },
    "colab": {},
    "colab_type": "code",
    "id": "ZivBX44jw7DV"
   },
   "outputs": [
    {
     "name": "stdout",
     "output_type": "stream",
     "text": [
      "Ridge Regression MSE: 209532128.6755044\n"
     ]
    }
   ],
   "source": [
    "ridge.set_params(alpha = list(ridge_grid.best_params_.values()))\n",
    "ridge.fit(tv_train_x, tv_train_y)\n",
    "ridge_pred = ridge.predict(tv_test_x)\n",
    "ridge_MSE = mean_squared_error(tv_test_y, ridge_pred)\n",
    "print('Ridge Regression MSE:', ridge_MSE)"
   ]
  },
  {
   "cell_type": "markdown",
   "metadata": {
    "colab_type": "text",
    "id": "XKnpwiC8zM9Z"
   },
   "source": [
    "## Lasso Regression Test"
   ]
  },
  {
   "cell_type": "code",
   "execution_count": 115,
   "metadata": {
    "ExecuteTime": {
     "end_time": "2019-07-16T00:15:15.518925Z",
     "start_time": "2019-07-16T00:15:15.496487Z"
    },
    "colab": {},
    "colab_type": "code",
    "id": "YZSnPDFHzOZc"
   },
   "outputs": [
    {
     "name": "stdout",
     "output_type": "stream",
     "text": [
      "Lasso Regression MSE: 209237574.76937968\n"
     ]
    }
   ],
   "source": [
    "lasso.set_params(alpha = list(lasso_grid.best_params_.values()))\n",
    "lasso.fit(tv_train_x, tv_train_y)\n",
    "lasso_pred = lasso.predict(tv_test_x)\n",
    "lasso_MSE = mean_squared_error(tv_test_y, lasso_pred)\n",
    "print('Lasso Regression MSE:', lasso_MSE)"
   ]
  },
  {
   "cell_type": "markdown",
   "metadata": {
    "colab_type": "text",
    "id": "beGgdvHuTS7u"
   },
   "source": [
    "## Random Forest Test"
   ]
  },
  {
   "cell_type": "code",
   "execution_count": 116,
   "metadata": {
    "ExecuteTime": {
     "end_time": "2019-07-16T00:15:28.474939Z",
     "start_time": "2019-07-16T00:15:28.005661Z"
    },
    "colab": {},
    "colab_type": "code",
    "id": "JVsuO3XMTicP"
   },
   "outputs": [
    {
     "name": "stdout",
     "output_type": "stream",
     "text": [
      "Ridge Regression MSE: 108952421.76448192\n"
     ]
    }
   ],
   "source": [
    "rf_best = RandomForestRegressor(random_state = 100, max_features = 'sqrt', max_depth = 20, n_estimators = 56)\n",
    "rf_best.fit(tv_train_x, tv_train_y)\n",
    "rf_pred = rf_best.predict(tv_test_x)\n",
    "rf_MSE = mean_squared_error(tv_test_y, rf_pred)\n",
    "print('Ridge Regression MSE:', rf_MSE)"
   ]
  },
  {
   "cell_type": "markdown",
   "metadata": {
    "ExecuteTime": {
     "end_time": "2019-07-15T23:32:17.939596Z",
     "start_time": "2019-07-15T23:32:17.935200Z"
    }
   },
   "source": [
    "## Gradient Boosting Test"
   ]
  },
  {
   "cell_type": "code",
   "execution_count": 117,
   "metadata": {
    "ExecuteTime": {
     "end_time": "2019-07-16T00:15:46.003854Z",
     "start_time": "2019-07-16T00:15:42.663751Z"
    }
   },
   "outputs": [
    {
     "name": "stdout",
     "output_type": "stream",
     "text": [
      "Gradient Boosting MSE: 136208456.69935074\n"
     ]
    }
   ],
   "source": [
    "gb_best = GradientBoostingRegressor(random_state = 100, learning_rate = 0.1, \n",
    "                                    n_estimators = 210, max_depth = 11, \n",
    "                                    min_samples_leaf = 110, min_samples_split = 1000)\n",
    "gb_best.fit(tv_train_x, tv_train_y)\n",
    "gb_pred = gb_best.predict(tv_test_x)\n",
    "gb_MSE = mean_squared_error(tv_test_y, gb_pred)\n",
    "print('Gradient Boosting MSE:', gb_MSE)"
   ]
  },
  {
   "cell_type": "markdown",
   "metadata": {
    "colab_type": "text",
    "id": "IoBYS_1CVCcI"
   },
   "source": [
    "## Comparison"
   ]
  },
  {
   "cell_type": "code",
   "execution_count": 120,
   "metadata": {
    "ExecuteTime": {
     "end_time": "2019-07-16T00:29:37.994107Z",
     "start_time": "2019-07-16T00:29:37.728575Z"
    }
   },
   "outputs": [
    {
     "name": "stderr",
     "output_type": "stream",
     "text": [
      "No handles with labels found to put in legend.\n"
     ]
    },
    {
     "data": {
      "image/png": "[encoded data removed]",
      "text/plain": [
       "<Figure size 432x288 with 1 Axes>"
      ]
     },
     "metadata": {
      "needs_background": "light"
     },
     "output_type": "display_data"
    }
   ],
   "source": [
    "MSE_lst =  [lr_MSE, ridge_MSE, lasso_MSE, rf_MSE, gb_MSE]\n",
    "model_lst = ['Linear','Ridge', 'Lasso', 'Random forest', 'Gradient Boosting']\n",
    "\n",
    "plt.figure(2)\n",
    "plt.plot(model_lst, MSE_lst, 'g^')\n",
    "plt.legend(loc = 9)\n",
    "plt.legend(['mean square error (MSE)'])\n",
    "plt.xlabel('model names', fontsize =16)\n",
    "plt.xticks(rotation = -45)\n",
    "plt.ylabel('mean square error', fontsize =16)\n",
    "plt.title(\"Model Compari\")\n",
    "plt.grid(True)\n",
    "plt.show()"
   ]
  },
  {
   "cell_type": "markdown",
   "metadata": {
    "colab_type": "text",
    "id": "hBtVF8VMTnaY"
   },
   "source": [
    "# Best model with Best hyper-parameter"
   ]
  },
  {
   "cell_type": "markdown",
   "metadata": {
    "colab_type": "text",
    "id": "mtwGB537TtM-"
   },
   "source": [
    "## Feature Importance"
   ]
  },
  {
   "cell_type": "code",
   "execution_count": 112,
   "metadata": {
    "ExecuteTime": {
     "end_time": "2019-07-15T23:44:07.120627Z",
     "start_time": "2019-07-15T23:44:06.734700Z"
    },
    "colab": {},
    "colab_type": "code",
    "id": "uN-5YdRKTqeG"
   },
   "outputs": [
    {
     "name": "stdout",
     "output_type": "stream",
     "text": [
      "Feature importance ranking:\n",
      "1. feature 1 weighted_categorical_position (0.145157)\n",
      "2. feature 0 weighted_horizontal_poition (0.118505)\n",
      "3. feature 2 imdb_votes (0.112516)\n",
      "4. feature 4 budget (0.063035)\n",
      "5. feature 3 boxoffice (0.062768)\n",
      "6. feature 7 imdb_rating (0.059054)\n",
      "7. feature 8 duration_in_mins (0.043807)\n",
      "8. feature 6 metacritic_score (0.041026)\n",
      "9. feature 9 star_category (0.039705)\n",
      "10. feature 5 import_id_lionsgate (0.038357)\n",
      "11. feature 53 import_id_mgm (0.033724)\n",
      "12. feature 11 import_id_other (0.027471)\n",
      "13. feature 42 import_id_paramount (0.016106)\n",
      "14. feature 10 mpaa_G (0.014201)\n",
      "15. feature 28 mpaa_NC-17 (0.013455)\n",
      "16. feature 18 mpaa_NotRated (0.013139)\n",
      "17. feature 52 mpaa_PG (0.010607)\n",
      "18. feature 23 mpaa_PG-13 (0.009011)\n",
      "19. feature 50 mpaa_R (0.008265)\n",
      "20. feature 15 awards_BAFTA (0.007638)\n",
      "21. feature 49 awards_Golden Globe (0.007409)\n",
      "22. feature 22 awards_Oscar (0.007075)\n",
      "23. feature 48 awards_no award (0.006308)\n",
      "24. feature 30 awards_other award (0.006192)\n",
      "25. feature 27 Action (0.006110)\n",
      "26. feature 51 Adventure (0.005787)\n",
      "27. feature 17 Animation (0.005550)\n",
      "28. feature 43 Comedy (0.005358)\n",
      "29. feature 35 Crime (0.005008)\n",
      "30. feature 20 Documentary (0.004754)\n",
      "31. feature 54 Drama (0.004562)\n",
      "32. feature 24 Fantasy (0.004543)\n",
      "33. feature 16 Foreign/International (0.004379)\n",
      "34. feature 29 Horror (0.004247)\n",
      "35. feature 21 Independent (0.004223)\n",
      "36. feature 47 Kids & Family (0.004046)\n",
      "37. feature 33 Music (0.003788)\n",
      "38. feature 44 Musicals (0.003714)\n",
      "39. feature 38 Mystery (0.003524)\n",
      "40. feature 25 Romance (0.003410)\n",
      "41. feature 31 Sci-Fi (0.003295)\n",
      "42. feature 39 Sport (0.002898)\n",
      "43. feature 36 Thriller (0.002878)\n",
      "44. feature 40 War (0.002440)\n",
      "45. feature 12 Western (0.002128)\n",
      "46. feature 26 other (0.001996)\n",
      "47. feature 41 1916-1974 (0.001765)\n",
      "48. feature 46 1974-1991 (0.001469)\n",
      "49. feature 55 1991-2001 (0.001448)\n",
      "50. feature 34 2001-2006 (0.000649)\n",
      "51. feature 37 2006-2008 (0.000569)\n",
      "52. feature 14 2008-2010 (0.000508)\n",
      "53. feature 13 2010-2012 (0.000238)\n",
      "54. feature 32  2012-2013 (0.000076)\n",
      "55. feature 19 2013-2014 (0.000070)\n",
      "56. feature 45 2014-2017 (0.000042)\n"
     ]
    },
    {
     "data": {
      "image/png": "[encoded data removed]",
      "text/plain": [
       "<Figure size 432x288 with 1 Axes>"
      ]
     },
     "metadata": {
      "needs_background": "light"
     },
     "output_type": "display_data"
    }
   ],
   "source": [
    "importances = rf_best.feature_importances_\n",
    "std = np.std([tree.feature_importances_ for tree in rf_best.estimators_], axis=0)\n",
    "indices = np.argsort(importances)[::-1]\n",
    "feature_name = tv_test_x.columns.get_values()\n",
    "\n",
    "# Print the feature ranking\n",
    "print(\"Feature importance ranking:\")\n",
    "\n",
    "for f in range(tv_test_x.shape[1]):\n",
    "    print(\"%d. feature %d %s (%f)\" % (f + 1, indices[f],  feature_name[f], importances[indices[f]]))\n",
    "    \n",
    "plt.figure(1)\n",
    "plt.bar(feature_name[:11], importances[indices[:11]])\n",
    "plt.xticks(rotation=90)\n",
    "plt.show()"
   ]
  },
  {
   "cell_type": "code",
   "execution_count": null,
   "metadata": {},
   "outputs": [],
   "source": []
  }
 ],
 "metadata": {
  "colab": {
   "name": "Amazon Video Project.ipynb",
   "provenance": [],
   "toc_visible": true,
   "version": "0.3.2"
  },
  "kernelspec": {
   "display_name": "Python 3",
   "language": "python",
   "name": "python3"
  },
  "language_info": {
   "codemirror_mode": {
    "name": "ipython",
    "version": 3
   },
   "file_extension": ".py",
   "mimetype": "text/x-python",
   "name": "python",
   "nbconvert_exporter": "python",
   "pygments_lexer": "ipython3",
   "version": "3.7.3"
  },
  "toc": {
   "base_numbering": 1,
   "nav_menu": {},
   "number_sections": true,
   "sideBar": true,
   "skip_h1_title": false,
   "title_cell": "Table of Contents",
   "title_sidebar": "Contents",
   "toc_cell": false,
   "toc_position": {
    "height": "calc(100% - 180px)",
    "left": "10px",
    "top": "150px",
    "width": "361px"
   },
   "toc_section_display": true,
   "toc_window_display": true
  }
 },
 "nbformat": 4,
 "nbformat_minor": 1
}
